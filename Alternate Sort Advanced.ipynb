{
 "cells": [
  {
   "cell_type": "code",
   "execution_count": 1,
   "metadata": {},
   "outputs": [],
   "source": [
    "a = [10, 11, 2, 1, 4, 12, 21]"
   ]
  },
  {
   "cell_type": "code",
   "execution_count": 3,
   "metadata": {},
   "outputs": [],
   "source": [
    "def alternateSort(x):\n",
    "    for i in range(1, len(x)):\n",
    "        if i%2==0:\n",
    "            if(x[i]>x[i+1]):\n",
    "                swap(x, i, i+1)\n",
    "                if(x[i-1]>x[i]):\n",
    "                    swap(x, i-1, i)\n",
    "        else:\n",
    "            if(x[i]<x[i+1]):\n",
    "                swap(x, i, i+1)\n",
    "                if(x[i-1]<x[i]):\n",
    "                    swap(x, i-1, i)\n",
    "    print(x)"
   ]
  },
  {
   "cell_type": "code",
   "execution_count": 4,
   "metadata": {},
   "outputs": [],
   "source": [
    "def swap(x, i, j):\n",
    "    temp = x[i]\n",
    "    x[i] = x[j]\n",
    "    x[j] = x[i]"
   ]
  },
  {
   "cell_type": "code",
   "execution_count": null,
   "metadata": {},
   "outputs": [],
   "source": []
  }
 ],
 "metadata": {
  "kernelspec": {
   "display_name": "Python 3",
   "language": "python",
   "name": "python3"
  },
  "language_info": {
   "codemirror_mode": {
    "name": "ipython",
    "version": 3
   },
   "file_extension": ".py",
   "mimetype": "text/x-python",
   "name": "python",
   "nbconvert_exporter": "python",
   "pygments_lexer": "ipython3",
   "version": "3.6.5"
  }
 },
 "nbformat": 4,
 "nbformat_minor": 2
}
