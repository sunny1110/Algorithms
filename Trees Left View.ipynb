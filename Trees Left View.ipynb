{
 "cells": [
  {
   "cell_type": "code",
   "execution_count": 1,
   "metadata": {},
   "outputs": [],
   "source": [
    "class Node:\n",
    "    def __init__(self, val):\n",
    "        self.left = None\n",
    "        self.right = None\n",
    "        self.val = val"
   ]
  },
  {
   "cell_type": "code",
   "execution_count": 10,
   "metadata": {},
   "outputs": [],
   "source": [
    "root = Node(1) \n",
    "root.left = Node(2) \n",
    "root.right = Node(3) \n",
    "root.left.left = Node(4) \n",
    "root.left.right = Node(5) \n",
    "root.right.right = Node(6) \n",
    "root.left.left.left = Node(7) \n",
    "root.left.left.right = Node(8) \n",
    "root.right.right.left = Node(9) \n",
    "root.right.right.right = Node(10) \n",
    "root.right.right.right.right = Node(14)\n",
    "root.right.right.right.right.left = Node(81)"
   ]
  },
  {
   "cell_type": "code",
   "execution_count": 11,
   "metadata": {},
   "outputs": [],
   "source": [
    "def inOrder(root):\n",
    "    if(root is None):\n",
    "        return\n",
    "    if(root.left):\n",
    "        inOrder(root.left)\n",
    "    print(root.val, end = \" \")\n",
    "    if(root.right):\n",
    "        inOrder(root.right)"
   ]
  },
  {
   "cell_type": "code",
   "execution_count": 12,
   "metadata": {},
   "outputs": [
    {
     "name": "stdout",
     "output_type": "stream",
     "text": [
      "7 4 8 2 5 1 3 9 6 10 81 14 "
     ]
    }
   ],
   "source": [
    "inOrder(root)"
   ]
  },
  {
   "cell_type": "code",
   "execution_count": 13,
   "metadata": {},
   "outputs": [],
   "source": [
    "def leftView(root, level, v):\n",
    "    if root is None:\n",
    "        return\n",
    "    leftView(root.left, level-1, v)\n",
    "    \n",
    "    if v[level-1]==0:\n",
    "        print(root.val)\n",
    "        v[level-1] = 1\n",
    "    \n",
    "    leftView(root.right, level-1, v)"
   ]
  },
  {
   "cell_type": "code",
   "execution_count": 14,
   "metadata": {},
   "outputs": [],
   "source": [
    "def treeHeight(root):\n",
    "    if root is None:\n",
    "        return 0\n",
    "    \n",
    "    leftHeight = treeHeight(root.left)\n",
    "    rightHeight = treeHeight(root.right)\n",
    "    \n",
    "    if(leftHeight>rightHeight):\n",
    "        return leftHeight+1\n",
    "    else:\n",
    "        return rightHeight+1\n",
    "    "
   ]
  },
  {
   "cell_type": "code",
   "execution_count": 15,
   "metadata": {},
   "outputs": [],
   "source": [
    "def leftViewCaller(root):\n",
    "    height = treeHeight(root)\n",
    "    v = [0]*height\n",
    "    leftView(root, height, v)"
   ]
  },
  {
   "cell_type": "code",
   "execution_count": 16,
   "metadata": {},
   "outputs": [
    {
     "name": "stdout",
     "output_type": "stream",
     "text": [
      "7\n",
      "4\n",
      "2\n",
      "1\n",
      "81\n",
      "14\n"
     ]
    }
   ],
   "source": [
    "leftViewCaller(root)"
   ]
  },
  {
   "cell_type": "code",
   "execution_count": 42,
   "metadata": {},
   "outputs": [],
   "source": [
    "def bottomViewUtil(root, hDistance, map, min):\n",
    "    if root is None:\n",
    "        return\n",
    "    \n",
    "    if(hDistance<min[0]):\n",
    "        min[0] = hDistance\n",
    "    if hDistance not in map:\n",
    "        map[hDistance] = root.val\n",
    "    bottomViewUtil(root.left, hDistance-1, map, min)\n",
    "    bottomViewUtil(root.right, hDistance+1, map, min)\n",
    "    "
   ]
  },
  {
   "cell_type": "code",
   "execution_count": 43,
   "metadata": {},
   "outputs": [],
   "source": [
    "def bottomView(root):\n",
    "    map = {}\n",
    "    min = [0]\n",
    "    bottomViewUtil(root, 0, map, min)\n",
    "    l = len(map)\n",
    "    for i in range(l):\n",
    "        print(map[min[0]+i], end = \" \")"
   ]
  },
  {
   "cell_type": "code",
   "execution_count": 44,
   "metadata": {},
   "outputs": [
    {
     "name": "stdout",
     "output_type": "stream",
     "text": [
      "7 4 2 1 3 6 10 14 "
     ]
    }
   ],
   "source": [
    "bottomView(root)"
   ]
  },
  {
   "cell_type": "code",
   "execution_count": null,
   "metadata": {},
   "outputs": [],
   "source": []
  }
 ],
 "metadata": {
  "kernelspec": {
   "display_name": "Python 3",
   "language": "python",
   "name": "python3"
  },
  "language_info": {
   "codemirror_mode": {
    "name": "ipython",
    "version": 3
   },
   "file_extension": ".py",
   "mimetype": "text/x-python",
   "name": "python",
   "nbconvert_exporter": "python",
   "pygments_lexer": "ipython3",
   "version": "3.6.5"
  }
 },
 "nbformat": 4,
 "nbformat_minor": 2
}
