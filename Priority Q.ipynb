{
 "cells": [
  {
   "cell_type": "code",
   "execution_count": 26,
   "metadata": {},
   "outputs": [],
   "source": [
    "class PriorityQueue:\n",
    "    def __init__(self):\n",
    "        self.queue = []\n",
    "    \n",
    "    \n",
    "    def insert(self, val):\n",
    "        self.queue.append(val)\n",
    "    \n",
    "    \n",
    "    def pop(self):\n",
    "        if(len(self.queue)>0):\n",
    "            x = self.queue.pop(self.queue.index(max(self.queue)))\n",
    "            return x\n",
    "        else:\n",
    "            return \"Empty Queue\"\n",
    "        "
   ]
  }
 ],
 "metadata": {
  "kernelspec": {
   "display_name": "Python 3",
   "language": "python",
   "name": "python3"
  },
  "language_info": {
   "codemirror_mode": {
    "name": "ipython",
    "version": 3
   },
   "file_extension": ".py",
   "mimetype": "text/x-python",
   "name": "python",
   "nbconvert_exporter": "python",
   "pygments_lexer": "ipython3",
   "version": "3.6.5"
  }
 },
 "nbformat": 4,
 "nbformat_minor": 2
}
