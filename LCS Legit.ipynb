{
 "cells": [
  {
   "cell_type": "code",
   "execution_count": 72,
   "metadata": {},
   "outputs": [],
   "source": [
    "def longestSS(s1, s2):\n",
    "    print(longestSSUtil(s1, s2, len(s1), len(s2), 0, {}))"
   ]
  },
  {
   "cell_type": "code",
   "execution_count": 79,
   "metadata": {},
   "outputs": [],
   "source": [
    "def longestSSUtil(s1, s2, m, n, l, dict):\n",
    "#     print(l)\n",
    "    if m==-1 or n==-1:\n",
    "        return l\n",
    "    \n",
    "    if((m,n) in dict):\n",
    "        print(\"Saving Time Fella!\")\n",
    "        return dict[(m, n)]\n",
    "    \n",
    "    if s1[m-1]==s2[n-1]:\n",
    "        print(s1[m-1])\n",
    "        return longestSSUtil(s1, s2, m-1, n-1, l+1, dict)\n",
    "    \n",
    "    lsf = max(l, longestSSUtil(s1, s2, m-1, n, 0, dict), longestSSUtil(s1, s2, m, n-1, 0, dict))\n",
    "    dict[(m, n)] = lsf\n",
    "    return lsf"
   ]
  },
  {
   "cell_type": "code",
   "execution_count": 80,
   "metadata": {},
   "outputs": [],
   "source": [
    "a = \"eabcdqe\"\n",
    "b = \"eaebcdq\""
   ]
  },
  {
   "cell_type": "code",
   "execution_count": 81,
   "metadata": {},
   "outputs": [
    {
     "name": "stdout",
     "output_type": "stream",
     "text": [
      "q\n",
      "d\n",
      "c\n",
      "b\n",
      "e\n",
      "e\n",
      "a\n",
      "e\n",
      "d\n",
      "c\n",
      "b\n",
      "Saving Time Fella!\n",
      "c\n",
      "b\n",
      "Saving Time Fella!\n",
      "b\n",
      "Saving Time Fella!\n",
      "Saving Time Fella!\n",
      "a\n",
      "e\n",
      "Saving Time Fella!\n",
      "e\n",
      "Saving Time Fella!\n",
      "Saving Time Fella!\n",
      "Saving Time Fella!\n",
      "Saving Time Fella!\n",
      "Saving Time Fella!\n",
      "Saving Time Fella!\n",
      "Saving Time Fella!\n",
      "Saving Time Fella!\n",
      "Saving Time Fella!\n",
      "Saving Time Fella!\n",
      "Saving Time Fella!\n",
      "Saving Time Fella!\n",
      "Saving Time Fella!\n",
      "Saving Time Fella!\n",
      "q\n",
      "Saving Time Fella!\n",
      "Saving Time Fella!\n",
      "e\n",
      "Saving Time Fella!\n",
      "4\n"
     ]
    }
   ],
   "source": [
    "longestSS(a, b)"
   ]
  },
  {
   "cell_type": "code",
   "execution_count": 62,
   "metadata": {},
   "outputs": [],
   "source": [
    "def lcs(i, j, count) :  \n",
    "      \n",
    "    if (i == 0 or j == 0) :  \n",
    "        return count  \n",
    "          \n",
    "    if (X[i - 1] == Y[j - 1]) : \n",
    "        count = lcs(i - 1, j - 1, count + 1)  \n",
    "      \n",
    "    count = max(count, max(lcs( i, j - 1, 0),  \n",
    "                           lcs( i - 1, j, 0)))  \n",
    "  \n",
    "    return count "
   ]
  },
  {
   "cell_type": "code",
   "execution_count": 64,
   "metadata": {},
   "outputs": [],
   "source": [
    "X = \"bcdqe\"\n",
    "Y = \"bcdq\""
   ]
  },
  {
   "cell_type": "code",
   "execution_count": 69,
   "metadata": {},
   "outputs": [
    {
     "data": {
      "text/plain": [
       "4"
      ]
     },
     "execution_count": 69,
     "metadata": {},
     "output_type": "execute_result"
    }
   ],
   "source": [
    "lcs(len(X), len(Y), 0)"
   ]
  },
  {
   "cell_type": "code",
   "execution_count": null,
   "metadata": {},
   "outputs": [],
   "source": []
  }
 ],
 "metadata": {
  "kernelspec": {
   "display_name": "Python 3",
   "language": "python",
   "name": "python3"
  },
  "language_info": {
   "codemirror_mode": {
    "name": "ipython",
    "version": 3
   },
   "file_extension": ".py",
   "mimetype": "text/x-python",
   "name": "python",
   "nbconvert_exporter": "python",
   "pygments_lexer": "ipython3",
   "version": "3.6.5"
  }
 },
 "nbformat": 4,
 "nbformat_minor": 2
}
