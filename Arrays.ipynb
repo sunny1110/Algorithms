{
 "cells": [
  {
   "cell_type": "code",
   "execution_count": 1,
   "metadata": {},
   "outputs": [],
   "source": [
    "# Min of Max Window"
   ]
  },
  {
   "cell_type": "code",
   "execution_count": 40,
   "metadata": {},
   "outputs": [],
   "source": [
    "a = [10, 20, 30, 50, 10, 70, 30]"
   ]
  },
  {
   "cell_type": "code",
   "execution_count": 41,
   "metadata": {},
   "outputs": [],
   "source": [
    "def minWindow(a, size):\n",
    "    # Fill Window Holder\n",
    "    \n",
    "    windowHolder = a[0:size]\n",
    "    MIN = min(windowHolder)\n",
    "    minWindow = [MIN]\n",
    "    for i in range(len(a)-size):\n",
    "#         print(windowHolder)\n",
    "        if(windowHolder[0]==MIN):\n",
    "            windowHolder.pop(0)\n",
    "            windowHolder.append(a[i+size])\n",
    "            MIN = min(windowHolder)\n",
    "        else:\n",
    "            if(a[i+size]<MIN):\n",
    "                MIN = a[i+size]\n",
    "            windowHolder.pop(0)\n",
    "            windowHolder.append(a[i+size])\n",
    "        minWindow.append(MIN)\n",
    "    return minWindow"
   ]
  },
  {
   "cell_type": "code",
   "execution_count": 71,
   "metadata": {},
   "outputs": [],
   "source": [
    "def maxOfMin(a, maxWindowSize):\n",
    "    for i in range(1, maxWindowSize+1):\n",
    "        print(max(minWindow(a, i)), end=\" \")"
   ]
  },
  {
   "cell_type": "code",
   "execution_count": 72,
   "metadata": {},
   "outputs": [],
   "source": [
    "def mySolution():\n",
    "    maxOfMin(a, len(a))"
   ]
  },
  {
   "cell_type": "code",
   "execution_count": 73,
   "metadata": {},
   "outputs": [],
   "source": [
    "INT_MIN = -1000000"
   ]
  },
  {
   "cell_type": "code",
   "execution_count": 74,
   "metadata": {},
   "outputs": [],
   "source": [
    "def printMaxOfMin(arr, n):  \n",
    "      \n",
    "    # Consider all windows of different  \n",
    "    # sizes starting from size 1  \n",
    "    for k in range(1, n + 1):  \n",
    "          \n",
    "        # Initialize max of min for \n",
    "        # current window size k  \n",
    "        maxOfMin = INT_MIN;  \n",
    "  \n",
    "        # Traverse through all windows  \n",
    "        # of current size k  \n",
    "        for i in range(n - k + 1):  \n",
    "              \n",
    "            # Find minimum of current window  \n",
    "            min = arr[i]  \n",
    "            for j in range(k):  \n",
    "                if (arr[i + j] < min):  \n",
    "                    min = arr[i + j] \n",
    "  \n",
    "            # Update maxOfMin if required  \n",
    "            if (min > maxOfMin):  \n",
    "                maxOfMin = min\n",
    "                  \n",
    "        # Print max of min for current window size  \n",
    "        print(maxOfMin, end = \" \") "
   ]
  },
  {
   "cell_type": "code",
   "execution_count": 75,
   "metadata": {},
   "outputs": [],
   "source": [
    "def copiedSolution():\n",
    "    \n",
    "    printMaxOfMin(a, len(a))"
   ]
  },
  {
   "cell_type": "code",
   "execution_count": 76,
   "metadata": {},
   "outputs": [
    {
     "name": "stdout",
     "output_type": "stream",
     "text": [
      "70 30 20 10 10 10 10 "
     ]
    }
   ],
   "source": [
    "copiedSolution()"
   ]
  },
  {
   "cell_type": "code",
   "execution_count": 77,
   "metadata": {},
   "outputs": [
    {
     "name": "stdout",
     "output_type": "stream",
     "text": [
      "70 30 20 10 10 10 10 "
     ]
    }
   ],
   "source": [
    "mySolution()"
   ]
  },
  {
   "cell_type": "code",
   "execution_count": 78,
   "metadata": {},
   "outputs": [],
   "source": [
    "import time\n"
   ]
  },
  {
   "cell_type": "code",
   "execution_count": 93,
   "metadata": {},
   "outputs": [
    {
     "name": "stdout",
     "output_type": "stream",
     "text": [
      "70 30 20 10 10 10 10 \n",
      "\n",
      "--- 0.00080108642578125 seconds ---\n"
     ]
    }
   ],
   "source": [
    "start_time = time.time()\n",
    "copiedSolution()\n",
    "cTime = time.time() - start_time\n",
    "print(\"\\n\\n--- %s seconds ---\" % (cTime))"
   ]
  },
  {
   "cell_type": "code",
   "execution_count": 94,
   "metadata": {},
   "outputs": [
    {
     "name": "stdout",
     "output_type": "stream",
     "text": [
      "70 30 20 10 10 10 10 \n",
      "\n",
      "--- 0.0003681182861328125 seconds ---\n"
     ]
    }
   ],
   "source": [
    "start_time = time.time()\n",
    "mySolution()\n",
    "mTime = time.time() - start_time\n",
    "print(\"\\n\\n--- %s seconds ---\" % (mTime))\n"
   ]
  },
  {
   "cell_type": "code",
   "execution_count": 95,
   "metadata": {},
   "outputs": [
    {
     "data": {
      "text/plain": [
       "2.1761658031088085"
      ]
     },
     "execution_count": 95,
     "metadata": {},
     "output_type": "execute_result"
    }
   ],
   "source": [
    "cTime/mTime"
   ]
  },
  {
   "cell_type": "code",
   "execution_count": null,
   "metadata": {},
   "outputs": [],
   "source": []
  }
 ],
 "metadata": {
  "kernelspec": {
   "display_name": "Python 3",
   "language": "python",
   "name": "python3"
  },
  "language_info": {
   "codemirror_mode": {
    "name": "ipython",
    "version": 3
   },
   "file_extension": ".py",
   "mimetype": "text/x-python",
   "name": "python",
   "nbconvert_exporter": "python",
   "pygments_lexer": "ipython3",
   "version": "3.6.5"
  }
 },
 "nbformat": 4,
 "nbformat_minor": 2
}
