{
 "cells": [
  {
   "cell_type": "code",
   "execution_count": 9,
   "metadata": {},
   "outputs": [],
   "source": [
    "class Node:\n",
    "    def __init__(self, val):\n",
    "        self.val = val\n",
    "        self.next = None\n",
    "        "
   ]
  },
  {
   "cell_type": "code",
   "execution_count": 10,
   "metadata": {},
   "outputs": [],
   "source": [
    "def insert(root, val):\n",
    "    current = root\n",
    "    newNode = Node(val)\n",
    "    while(current.next is not None):\n",
    "        previous = current\n",
    "        current = current.next\n",
    "    current.next = newNode"
   ]
  },
  {
   "cell_type": "code",
   "execution_count": 11,
   "metadata": {},
   "outputs": [],
   "source": [
    "def printList(root):\n",
    "    current = root\n",
    "    while(current.next is not None):\n",
    "        previous = current\n",
    "        print(current.val, end=\"->\")\n",
    "        current = current.next\n",
    "    print(current.val)"
   ]
  },
  {
   "cell_type": "code",
   "execution_count": 12,
   "metadata": {},
   "outputs": [],
   "source": [
    "root = Node(3)"
   ]
  },
  {
   "cell_type": "code",
   "execution_count": 165,
   "metadata": {},
   "outputs": [],
   "source": [
    "insert(root, 2)"
   ]
  },
  {
   "cell_type": "code",
   "execution_count": 166,
   "metadata": {},
   "outputs": [
    {
     "name": "stdout",
     "output_type": "stream",
     "text": [
      "3->4->7->2->1->2\n"
     ]
    }
   ],
   "source": [
    "printList(root)"
   ]
  },
  {
   "cell_type": "code",
   "execution_count": 177,
   "metadata": {},
   "outputs": [],
   "source": [
    "def removeDups(root):\n",
    "    previous = root\n",
    "    dict = {}\n",
    "    dict[root.val] = root.val\n",
    "    current = previous.next\n",
    "    while(current is not None):\n",
    "#         print(\"Previous\", end=\": \")\n",
    "#         print(previous.val)\n",
    "#         print(\"Current\", end=\": \")\n",
    "#         print(current.val)\n",
    "        next = current.next\n",
    "        if(current.val in dict):\n",
    "            previous.next = next\n",
    "        else:\n",
    "            dict[current.val] = current.val\n",
    "            previous = current\n",
    "        current = current.next"
   ]
  },
  {
   "cell_type": "code",
   "execution_count": 203,
   "metadata": {},
   "outputs": [],
   "source": [
    "insert(root, 3)"
   ]
  },
  {
   "cell_type": "code",
   "execution_count": 201,
   "metadata": {},
   "outputs": [],
   "source": [
    "insert(root, 1)\n",
    "insert(root, 7)"
   ]
  },
  {
   "cell_type": "code",
   "execution_count": 204,
   "metadata": {},
   "outputs": [
    {
     "name": "stdout",
     "output_type": "stream",
     "text": [
      "3->4->7->2->1->1->7->3\n"
     ]
    }
   ],
   "source": [
    "printList(root)"
   ]
  },
  {
   "cell_type": "code",
   "execution_count": 189,
   "metadata": {},
   "outputs": [],
   "source": [
    "removeDups(root)"
   ]
  },
  {
   "cell_type": "code",
   "execution_count": 206,
   "metadata": {},
   "outputs": [],
   "source": [
    "def k2Last(root, k):\n",
    "    previous = root\n",
    "    current = previous.next\n",
    "    counter = 1\n",
    "    offset = root\n",
    "    while(current is not None and counter < k):\n",
    "        current = current.next\n",
    "        counter += 1\n",
    "    while(current is not None):\n",
    "        offset = offset.next\n",
    "        current = current.next\n",
    "    return offset.val\n",
    "        "
   ]
  },
  {
   "cell_type": "code",
   "execution_count": 207,
   "metadata": {},
   "outputs": [
    {
     "data": {
      "text/plain": [
       "1"
      ]
     },
     "execution_count": 207,
     "metadata": {},
     "output_type": "execute_result"
    }
   ],
   "source": [
    "k2Last(root, 3)"
   ]
  },
  {
   "cell_type": "code",
   "execution_count": 297,
   "metadata": {},
   "outputs": [],
   "source": [
    "def lastPart(root, x):\n",
    "    previous = root\n",
    "    current = root\n",
    "    before = None\n",
    "    after = None\n",
    "    afterRoot = None\n",
    "    beforeRoot = None\n",
    "    while(current is not None):\n",
    "        if(current.val<x):\n",
    "#             print(current.val, end=\"Less: \")\n",
    "            if(before is None):\n",
    "                before = current\n",
    "                beforeRoot = current\n",
    "            else:\n",
    "                before.next = current\n",
    "                before = before.next\n",
    "        else:\n",
    "#             print(current.val, end=\"More: \")\n",
    "            if(after is None):\n",
    "                afterRoot = current\n",
    "                after = current\n",
    "            else:\n",
    "                after.next = current\n",
    "                after = after.next\n",
    "        current = current.next\n",
    "    print(\"\\n\")\n",
    "    after.next = None\n",
    "#     printList(beforeRoot)\n",
    "    printList(afterRoot)\n",
    "    before.next = afterRoot"
   ]
  },
  {
   "cell_type": "code",
   "execution_count": 298,
   "metadata": {},
   "outputs": [],
   "source": [
    "r1 = Node(3)"
   ]
  },
  {
   "cell_type": "code",
   "execution_count": 299,
   "metadata": {},
   "outputs": [],
   "source": [
    "insert(r1, 5)\n",
    "insert(r1, 8)\n",
    "insert(r1, 5)\n",
    "insert(r1, 10)\n",
    "insert(r1, 2)\n",
    "insert(r1, 1)"
   ]
  },
  {
   "cell_type": "code",
   "execution_count": 303,
   "metadata": {},
   "outputs": [
    {
     "name": "stdout",
     "output_type": "stream",
     "text": [
      "3->2->1->5->8->5->10\n"
     ]
    }
   ],
   "source": [
    "printList(r1)"
   ]
  },
  {
   "cell_type": "code",
   "execution_count": 301,
   "metadata": {},
   "outputs": [
    {
     "name": "stdout",
     "output_type": "stream",
     "text": [
      "\n",
      "\n",
      "5->8->5->10\n"
     ]
    }
   ],
   "source": [
    "lastPart(r1, 5)"
   ]
  },
  {
   "cell_type": "code",
   "execution_count": 367,
   "metadata": {},
   "outputs": [],
   "source": [
    "n1 = Node(5)\n",
    "insert(n1, 7)\n",
    "insert(n1, 3)"
   ]
  },
  {
   "cell_type": "code",
   "execution_count": 368,
   "metadata": {},
   "outputs": [
    {
     "name": "stdout",
     "output_type": "stream",
     "text": [
      "5->7->3\n"
     ]
    }
   ],
   "source": [
    "printList(n1)"
   ]
  },
  {
   "cell_type": "code",
   "execution_count": 377,
   "metadata": {},
   "outputs": [],
   "source": [
    "n2 = Node(8)\n",
    "insert(n2, 6)"
   ]
  },
  {
   "cell_type": "code",
   "execution_count": 378,
   "metadata": {},
   "outputs": [
    {
     "name": "stdout",
     "output_type": "stream",
     "text": [
      "8->6\n"
     ]
    }
   ],
   "source": [
    "printList(n2)"
   ]
  },
  {
   "cell_type": "code",
   "execution_count": 381,
   "metadata": {},
   "outputs": [],
   "source": [
    "def addLists(n1, n2):\n",
    "    n1c = n1\n",
    "    n2c = n2\n",
    "    carry = 0\n",
    "    s = None\n",
    "    sRoot = None\n",
    "    while(n1c is not None and n2c is not None):\n",
    "        sum = (n1c.val + n2c.val + carry) % 10\n",
    "        carry = int((n1c.val + n2c.val + carry) / 10)\n",
    "#         print(sum)\n",
    "        if s is None:\n",
    "            s = Node(sum)\n",
    "            sRoot = s\n",
    "        else:\n",
    "#             print(s.val, end=\"cNode\")\n",
    "#             print(sum, end=\"new\")\n",
    "            s.next = Node(sum)\n",
    "            s = s.next\n",
    "        n1c = n1c.next\n",
    "        n2c = n2c.next\n",
    "    while(n1c is not None):\n",
    "        sum = n1c.val + carry % 10\n",
    "        carry = int((n1c.val+carry)/10)\n",
    "        s.next = Node(sum)\n",
    "        s = s.next\n",
    "        n1c = n1c.next\n",
    "    while(n2c is not None):\n",
    "        sum = n2c.val + carry % 10\n",
    "        carry = int((n2c.val+carry)/10)\n",
    "        s.next = Node(sum)\n",
    "        s = s.next\n",
    "        n2c = n2c.next\n",
    "    if(carry>0):\n",
    "        s.next = Node(carry)\n",
    "    return sRoot\n",
    "        "
   ]
  },
  {
   "cell_type": "code",
   "execution_count": 382,
   "metadata": {},
   "outputs": [],
   "source": [
    "x = addLists(n1, n2)"
   ]
  },
  {
   "cell_type": "code",
   "execution_count": 383,
   "metadata": {},
   "outputs": [
    {
     "name": "stdout",
     "output_type": "stream",
     "text": [
      "3->4->4\n"
     ]
    }
   ],
   "source": [
    "printList(x)"
   ]
  },
  {
   "cell_type": "code",
   "execution_count": 334,
   "metadata": {},
   "outputs": [],
   "source": [
    "def recAddList(n1, n2, carry=0, value=None):\n",
    "    sum = n1.val+n2.val+carry\n",
    "    val = Node(sum%10)\n",
    "    nextCarry = int((sum)/ 10)\n",
    "    if(value is not None):\n",
    "        print(val.val, end=\"->\")\n",
    "        value.next = val\n",
    "    if(n1.next is not None and n2.next is not None):\n",
    "        recAddList(n1.next, n2.next, nextCarry, val)\n",
    "    else:\n",
    "        return"
   ]
  },
  {
   "cell_type": "code",
   "execution_count": 335,
   "metadata": {},
   "outputs": [
    {
     "name": "stdout",
     "output_type": "stream",
     "text": [
      "0->0->"
     ]
    }
   ],
   "source": [
    "recAddList(n1, n2)"
   ]
  },
  {
   "cell_type": "code",
   "execution_count": 467,
   "metadata": {},
   "outputs": [],
   "source": [
    "def listIsPalindrome(root):\n",
    "    listLength = getListLength(root)\n",
    "    previous = root\n",
    "    current = root\n",
    "    counter = 0\n",
    "    stack = []\n",
    "#     print(listLength, end=\"LL\\n\")\n",
    "    while(current is not None):\n",
    "#         print(stack)\n",
    "#         print(listLength%2 is not 0)\n",
    "#         print(counter, \"counter\")\n",
    "#         print(int((listLength/2)+1), end=\"ll+2\")\n",
    "        if(listLength%2 is not 0 and counter is int((listLength/2))):\n",
    "#             print(\"Here in the middle\")\n",
    "            pass\n",
    "        elif(counter <int(listLength/2)):\n",
    "            stack.append(current.val)\n",
    "        else:\n",
    "            stackTop = stack.pop()\n",
    "#             print(stackTop, end=\"ST\\n\")/\\\n",
    "#             print(current.val, end = \"cV\")\n",
    "            \n",
    "            if(current.val is not stackTop):\n",
    "                return False\n",
    "        current = current.next\n",
    "        counter+=1\n",
    "    return True"
   ]
  },
  {
   "cell_type": "code",
   "execution_count": 473,
   "metadata": {},
   "outputs": [
    {
     "name": "stdout",
     "output_type": "stream",
     "text": [
      "4->3->3->4\n"
     ]
    }
   ],
   "source": [
    "printList(evenPal)"
   ]
  },
  {
   "cell_type": "code",
   "execution_count": 474,
   "metadata": {},
   "outputs": [
    {
     "data": {
      "text/plain": [
       "True"
      ]
     },
     "execution_count": 474,
     "metadata": {},
     "output_type": "execute_result"
    }
   ],
   "source": [
    "listIsPalindrome(oddPal)"
   ]
  },
  {
   "cell_type": "code",
   "execution_count": 404,
   "metadata": {},
   "outputs": [],
   "source": [
    "def getListLength(root):\n",
    "    counter = 0\n",
    "    current = root\n",
    "    while(current is not None):\n",
    "        counter+=1\n",
    "        current=current.next\n",
    "    return counter"
   ]
  },
  {
   "cell_type": "code",
   "execution_count": 415,
   "metadata": {},
   "outputs": [],
   "source": [
    "insert(n1, 3)\n",
    "insert(n1, 7)\n",
    "insert(n1, 5)"
   ]
  },
  {
   "cell_type": "code",
   "execution_count": 418,
   "metadata": {},
   "outputs": [],
   "source": [
    "oddPal = Node(3)"
   ]
  },
  {
   "cell_type": "code",
   "execution_count": 421,
   "metadata": {},
   "outputs": [],
   "source": [
    "insert(oddPal, 3)"
   ]
  },
  {
   "cell_type": "code",
   "execution_count": 470,
   "metadata": {},
   "outputs": [],
   "source": [
    "evenPal = Node(4)"
   ]
  },
  {
   "cell_type": "code",
   "execution_count": 472,
   "metadata": {},
   "outputs": [],
   "source": [
    "insert(evenPal, 3)\n",
    "insert(evenPal, 3)\n",
    "insert(evenPal, 4)"
   ]
  },
  {
   "cell_type": "code",
   "execution_count": null,
   "metadata": {},
   "outputs": [],
   "source": []
  }
 ],
 "metadata": {
  "kernelspec": {
   "display_name": "Python 3",
   "language": "python",
   "name": "python3"
  },
  "language_info": {
   "codemirror_mode": {
    "name": "ipython",
    "version": 3
   },
   "file_extension": ".py",
   "mimetype": "text/x-python",
   "name": "python",
   "nbconvert_exporter": "python",
   "pygments_lexer": "ipython3",
   "version": "3.6.5"
  }
 },
 "nbformat": 4,
 "nbformat_minor": 2
}
