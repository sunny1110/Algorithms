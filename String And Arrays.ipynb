{
 "cells": [
  {
   "cell_type": "code",
   "execution_count": 1,
   "metadata": {},
   "outputs": [],
   "source": [
    "def replaceSpaces(str, trueLength):\n",
    "    spaceFree = \"\"\n",
    "    for i in range(trueLength):\n",
    "        if(str[i] == ' '):\n",
    "            spaceFree = spaceFree + \"%20\"\n",
    "        else:\n",
    "            spaceFree = spaceFree + str[i]\n",
    "    return spaceFree\n"
   ]
  },
  {
   "cell_type": "code",
   "execution_count": 2,
   "metadata": {},
   "outputs": [
    {
     "data": {
      "text/plain": [
       "'Mr%20John%20Smith'"
      ]
     },
     "execution_count": 2,
     "metadata": {},
     "output_type": "execute_result"
    }
   ],
   "source": [
    "replaceSpaces(\"Mr John Smith      \", 13)"
   ]
  },
  {
   "cell_type": "code",
   "execution_count": 7,
   "metadata": {},
   "outputs": [],
   "source": [
    "def palindromePerm(str):\n",
    "    str = str.lower()\n",
    "    dict = {}\n",
    "    for i in range(len(str)):\n",
    "        if(str[i] is not ' '):\n",
    "            if str[i] in dict:\n",
    "                del dict[str[i]]\n",
    "            else:\n",
    "                dict[str[i]] = str[i]\n",
    "    print(dict)\n",
    "    return len(dict)<=1"
   ]
  },
  {
   "cell_type": "code",
   "execution_count": 11,
   "metadata": {},
   "outputs": [
    {
     "name": "stdout",
     "output_type": "stream",
     "text": [
      "{'r': 'r', 'e': 'e'}\n"
     ]
    },
    {
     "data": {
      "text/plain": [
       "False"
      ]
     },
     "execution_count": 11,
     "metadata": {},
     "output_type": "execute_result"
    }
   ],
   "source": [
    "palindromePerm(\"Tactore Coa\")"
   ]
  },
  {
   "cell_type": "code",
   "execution_count": 33,
   "metadata": {},
   "outputs": [],
   "source": [
    "def oneEditAway(s1, s2):\n",
    "    if(abs(len(s1)-len(s2))>1):\n",
    "        return False\n",
    "    i1 = 0\n",
    "    i2 = 0\n",
    "    f =  s1 if(len(s1) < len(s2)) else s2\n",
    "    s =  s2 if(len(s1) < len(s2)) else s1\n",
    "    diff = 0\n",
    "    while(i1<len(f) and i2<len(s)):\n",
    "        if(f[i1] is not s[i2]):\n",
    "            if(not diff):\n",
    "                diff = 1\n",
    "            else:\n",
    "                return False\n",
    "        else:\n",
    "            i1+=1\n",
    "        i2+=1\n",
    "    return True"
   ]
  },
  {
   "cell_type": "code",
   "execution_count": 40,
   "metadata": {},
   "outputs": [
    {
     "data": {
      "text/plain": [
       "False"
      ]
     },
     "execution_count": 40,
     "metadata": {},
     "output_type": "execute_result"
    }
   ],
   "source": [
    "oneEditAway(\"sqr\", \"ss2\")"
   ]
  },
  {
   "cell_type": "code",
   "execution_count": 59,
   "metadata": {},
   "outputs": [],
   "source": [
    "def compress(s):\n",
    "    cs = s[0]\n",
    "    count = 1\n",
    "    for i in range(1, len(s)):\n",
    "        if(cs[len(cs)- 1] == s[i]):\n",
    "            count = count + 1\n",
    "        else:\n",
    "            cs = cs + str(count) + s[i]\n",
    "            count = 1\n",
    "    return cs+str(count)"
   ]
  },
  {
   "cell_type": "code",
   "execution_count": 63,
   "metadata": {},
   "outputs": [
    {
     "data": {
      "text/plain": [
       "'a2b1c5a20b1v1s1d1f1'"
      ]
     },
     "execution_count": 63,
     "metadata": {},
     "output_type": "execute_result"
    }
   ],
   "source": [
    "compress(\"aabcccccaaaaaaaaaaaaaaaaaaaabvsdf\")"
   ]
  },
  {
   "cell_type": "code",
   "execution_count": 119,
   "metadata": {},
   "outputs": [],
   "source": [
    "def rotate90(x):\n",
    "    for i in range(len(x[1])):\n",
    "        for j in range(len(x)-1, -1, -1):\n",
    "            print(x[j][i], end=\" \")\n",
    "        print(\"\\n\")"
   ]
  },
  {
   "cell_type": "code",
   "execution_count": 120,
   "metadata": {},
   "outputs": [],
   "source": [
    "x = [[1, 2, 3], [4, 5, 6], [7, 8, 9]]"
   ]
  },
  {
   "cell_type": "code",
   "execution_count": 121,
   "metadata": {},
   "outputs": [
    {
     "name": "stdout",
     "output_type": "stream",
     "text": [
      "7 4 1 \n",
      "\n",
      "8 5 2 \n",
      "\n",
      "9 6 3 \n",
      "\n"
     ]
    }
   ],
   "source": [
    "rotate90(x)"
   ]
  },
  {
   "cell_type": "code",
   "execution_count": 124,
   "metadata": {},
   "outputs": [],
   "source": [
    "def isRotate(s1, s2):\n",
    "    s3 = s1+s1\n",
    "    return s2 in s3"
   ]
  },
  {
   "cell_type": "code",
   "execution_count": 127,
   "metadata": {},
   "outputs": [
    {
     "data": {
      "text/plain": [
       "True"
      ]
     },
     "execution_count": 127,
     "metadata": {},
     "output_type": "execute_result"
    }
   ],
   "source": [
    "isRotate(\"waterbottle\", \"erbottlewat\")"
   ]
  },
  {
   "cell_type": "code",
   "execution_count": null,
   "metadata": {},
   "outputs": [],
   "source": []
  }
 ],
 "metadata": {
  "kernelspec": {
   "display_name": "Python 3",
   "language": "python",
   "name": "python3"
  },
  "language_info": {
   "codemirror_mode": {
    "name": "ipython",
    "version": 3
   },
   "file_extension": ".py",
   "mimetype": "text/x-python",
   "name": "python",
   "nbconvert_exporter": "python",
   "pygments_lexer": "ipython3",
   "version": "3.6.5"
  }
 },
 "nbformat": 4,
 "nbformat_minor": 2
}
