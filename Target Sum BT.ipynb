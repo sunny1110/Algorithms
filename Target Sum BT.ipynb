{
 "cells": [
  {
   "cell_type": "code",
   "execution_count": 3,
   "metadata": {},
   "outputs": [],
   "source": [
    "class Node:\n",
    "    def __init__(self, val):\n",
    "        self.val = val\n",
    "        self.right = None\n",
    "        self.left = None"
   ]
  },
  {
   "cell_type": "code",
   "execution_count": 4,
   "metadata": {},
   "outputs": [],
   "source": [
    "root = Node(1) \n",
    "root.left = Node(2) \n",
    "root.right = Node(3) \n",
    "root.left.left = Node(4) \n",
    "root.left.right = Node(5) \n",
    "root.right.right = Node(6) \n",
    "root.left.left.left = Node(7) \n",
    "root.left.left.right = Node(8) \n",
    "root.right.right.left = Node(9) \n",
    "root.right.right.right = Node(10) \n",
    "root.right.right.right.right = Node(22) \n",
    "root.right.right.right.right.right = Node(36) \n"
   ]
  },
  {
   "cell_type": "code",
   "execution_count": 5,
   "metadata": {},
   "outputs": [],
   "source": [
    "def preOrder(root):\n",
    "    if(root is None):\n",
    "        return\n",
    "    print(root.val, end= \" \")\n",
    "    if(root.left):\n",
    "        preOrder(root.left)\n",
    "    if(root.right):\n",
    "        preOrder(root.right)"
   ]
  },
  {
   "cell_type": "code",
   "execution_count": 6,
   "metadata": {},
   "outputs": [
    {
     "name": "stdout",
     "output_type": "stream",
     "text": [
      "1 2 4 7 8 5 3 6 9 10 22 36 "
     ]
    }
   ],
   "source": [
    "preOrder(root)"
   ]
  },
  {
   "cell_type": "code",
   "execution_count": 14,
   "metadata": {},
   "outputs": [],
   "source": [
    "def targetSum(root, target):\n",
    "    returnArray = []\n",
    "    nodes = {}\n",
    "    targetSumUtil(root, target, nodes, returnArray)\n",
    "    print(returnArray)"
   ]
  },
  {
   "cell_type": "code",
   "execution_count": 21,
   "metadata": {},
   "outputs": [],
   "source": [
    "def targetSumUtil(root, target, nodes, returnArray):\n",
    "    if root is None:\n",
    "        return\n",
    "    \n",
    "    nodes[root.val] = root.val\n",
    "    \n",
    "    if(root.left):\n",
    "        targetSumUtil(root.left, target, nodes, returnArray)\n",
    "    if (target-root.val) in nodes:\n",
    "        returnArray =[root.val, (target-root.val)]\n",
    "        print(returnArray)\n",
    "    if(root.right):\n",
    "        targetSumUtil(root.right, target, nodes, returnArray)\n",
    "    "
   ]
  },
  {
   "cell_type": "code",
   "execution_count": 22,
   "metadata": {},
   "outputs": [
    {
     "name": "stdout",
     "output_type": "stream",
     "text": [
      "[10, 9]\n",
      "[]\n"
     ]
    }
   ],
   "source": [
    "targetSum(root, 19)"
   ]
  },
  {
   "cell_type": "code",
   "execution_count": null,
   "metadata": {},
   "outputs": [],
   "source": []
  }
 ],
 "metadata": {
  "kernelspec": {
   "display_name": "Python 3",
   "language": "python",
   "name": "python3"
  },
  "language_info": {
   "codemirror_mode": {
    "name": "ipython",
    "version": 3
   },
   "file_extension": ".py",
   "mimetype": "text/x-python",
   "name": "python",
   "nbconvert_exporter": "python",
   "pygments_lexer": "ipython3",
   "version": "3.6.5"
  }
 },
 "nbformat": 4,
 "nbformat_minor": 2
}
