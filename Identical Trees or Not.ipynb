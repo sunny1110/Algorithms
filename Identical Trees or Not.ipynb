{
 "cells": [
  {
   "cell_type": "code",
   "execution_count": 82,
   "metadata": {},
   "outputs": [],
   "source": [
    "def idOrNot(root1, root2):\n",
    "    idVal = idUtil(root1, root2)\n",
    "    if(idVal):\n",
    "        print(\"Identical\")\n",
    "    else:\n",
    "        print(\"Not Identical\")"
   ]
  },
  {
   "cell_type": "code",
   "execution_count": 122,
   "metadata": {},
   "outputs": [],
   "source": [
    "def idUtil(root1, root2):\n",
    "    if root1 is None and root2 is None:\n",
    "        return True\n",
    "    \n",
    "    elif root1 is not None and root2 is not None:\n",
    "        fact = root1.val==root2.val\n",
    "        if(fact and idUtil(root1.right, root2.right) and idUtil(root1.left, root2.left)):\n",
    "            return True\n",
    "    else:\n",
    "        return False\n",
    "    \n",
    "    \n",
    "    \n",
    "    \n",
    "    "
   ]
  },
  {
   "cell_type": "code",
   "execution_count": 123,
   "metadata": {},
   "outputs": [],
   "source": [
    "class Node: \n",
    "      \n",
    "    # Constructor to create a new node \n",
    "    def __init__(self, data): \n",
    "        self.val = data \n",
    "        self.left = None\n",
    "        self.right = None"
   ]
  },
  {
   "cell_type": "code",
   "execution_count": 137,
   "metadata": {},
   "outputs": [],
   "source": [
    "root1 = Node(3)\n",
    "root1.left = Node(4)\n",
    "root1.right = Node(6)\n",
    "root1.right.left = Node(7)"
   ]
  },
  {
   "cell_type": "code",
   "execution_count": 140,
   "metadata": {},
   "outputs": [],
   "source": [
    "root2 = Node(3)\n",
    "root2.left = Node(4)\n",
    "root2.right = Node(6)\n",
    "root2.right.left = Node(6)"
   ]
  },
  {
   "cell_type": "code",
   "execution_count": 141,
   "metadata": {},
   "outputs": [
    {
     "name": "stdout",
     "output_type": "stream",
     "text": [
      "Not Identical\n"
     ]
    }
   ],
   "source": [
    "idOrNot(root1, root2)"
   ]
  },
  {
   "cell_type": "code",
   "execution_count": null,
   "metadata": {},
   "outputs": [],
   "source": []
  },
  {
   "cell_type": "code",
   "execution_count": null,
   "metadata": {},
   "outputs": [],
   "source": []
  }
 ],
 "metadata": {
  "kernelspec": {
   "display_name": "Python 3",
   "language": "python",
   "name": "python3"
  },
  "language_info": {
   "codemirror_mode": {
    "name": "ipython",
    "version": 3
   },
   "file_extension": ".py",
   "mimetype": "text/x-python",
   "name": "python",
   "nbconvert_exporter": "python",
   "pygments_lexer": "ipython3",
   "version": "3.6.5"
  }
 },
 "nbformat": 4,
 "nbformat_minor": 2
}
