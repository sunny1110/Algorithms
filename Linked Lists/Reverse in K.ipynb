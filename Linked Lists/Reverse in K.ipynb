{
 "cells": [
  {
   "cell_type": "code",
   "execution_count": 1,
   "metadata": {},
   "outputs": [],
   "source": [
    "class Node:\n",
    "    def __init__(self, val):\n",
    "        self.val = val\n",
    "        self.next = None"
   ]
  },
  {
   "cell_type": "code",
   "execution_count": 2,
   "metadata": {},
   "outputs": [],
   "source": [
    "def insert(node, val):\n",
    "    curr = node\n",
    "    while(curr.next is not None):\n",
    "        curr = curr.next\n",
    "    curr.next = Node(val)"
   ]
  },
  {
   "cell_type": "code",
   "execution_count": 11,
   "metadata": {},
   "outputs": [],
   "source": [
    "def printList(node):\n",
    "    curr = node\n",
    "    while(curr is not None):\n",
    "        print(curr.val, end=\"->\")\n",
    "        curr = curr.next\n",
    "    print(\"None\")"
   ]
  },
  {
   "cell_type": "code",
   "execution_count": 43,
   "metadata": {},
   "outputs": [],
   "source": [
    "root = Node(8)"
   ]
  },
  {
   "cell_type": "code",
   "execution_count": 12,
   "metadata": {},
   "outputs": [
    {
     "name": "stdout",
     "output_type": "stream",
     "text": [
      "8->15->None\n"
     ]
    }
   ],
   "source": [
    "printList(root)"
   ]
  },
  {
   "cell_type": "code",
   "execution_count": 21,
   "metadata": {},
   "outputs": [],
   "source": [
    "insert(root, 28)"
   ]
  },
  {
   "cell_type": "code",
   "execution_count": 22,
   "metadata": {},
   "outputs": [
    {
     "name": "stdout",
     "output_type": "stream",
     "text": [
      "8->15->21->34->18->42->2->28->None\n"
     ]
    }
   ],
   "source": [
    "printList(root)"
   ]
  },
  {
   "cell_type": "code",
   "execution_count": 75,
   "metadata": {},
   "outputs": [],
   "source": [
    "def reverseInK(root, k):\n",
    "    prev = None\n",
    "    curr = root\n",
    "    i=0\n",
    "    firstFlag = 0\n",
    "    while(curr is not None):\n",
    "        next = curr.next\n",
    "        if(i==k):\n",
    "            if(firstFlag==0):\n",
    "                firstFlag=curr\n",
    "            \n",
    "            i=0\n",
    "        else:\n",
    "            curr.next = prev\n",
    "            i+=1\n",
    "        prev = curr\n",
    "        curr = next\n",
    "    return firstFlag\n",
    "            "
   ]
  },
  {
   "cell_type": "code",
   "execution_count": 69,
   "metadata": {},
   "outputs": [],
   "source": [
    "def reverseList(root):\n",
    "    prev = None\n",
    "    curr = root\n",
    "    while(curr.next is not None):\n",
    "#         print(\"Entered\")\n",
    "        next = curr.next\n",
    "        curr.next = prev\n",
    "        prev = curr\n",
    "        curr = next\n",
    "    curr.next = prev\n",
    "    return curr"
   ]
  },
  {
   "cell_type": "code",
   "execution_count": 70,
   "metadata": {},
   "outputs": [
    {
     "name": "stdout",
     "output_type": "stream",
     "text": [
      "8->15->21->34->18->42->2->28->None\n"
     ]
    }
   ],
   "source": [
    "printList(root)"
   ]
  },
  {
   "cell_type": "code",
   "execution_count": 71,
   "metadata": {},
   "outputs": [],
   "source": [
    "newRoot = reverseList(root)"
   ]
  },
  {
   "cell_type": "code",
   "execution_count": 72,
   "metadata": {},
   "outputs": [
    {
     "name": "stdout",
     "output_type": "stream",
     "text": [
      "28->2->42->18->34->21->15->8->None\n"
     ]
    }
   ],
   "source": [
    "printList(newRoot)"
   ]
  },
  {
   "cell_type": "code",
   "execution_count": 182,
   "metadata": {},
   "outputs": [],
   "source": [
    "root = Node(8)\n",
    "insert(root, 15)\n",
    "insert(root, 21)\n",
    "insert(root, 34)\n",
    "insert(root, 18)\n",
    "insert(root, 42)\n",
    "insert(root, 2)\n",
    "insert(root, 28)"
   ]
  },
  {
   "cell_type": "code",
   "execution_count": 165,
   "metadata": {},
   "outputs": [],
   "source": [
    "def reverseK(root, k):\n",
    "    prev = None\n",
    "    next = None\n",
    "    curr = root\n",
    "    i=0\n",
    "    while(curr is not None and i<k):\n",
    "        next = curr.next\n",
    "        curr.next = prev\n",
    "        prev = curr\n",
    "        curr = next\n",
    "        i+=1\n",
    "    \n",
    "    if(next is not None):\n",
    "        root.next = reverseK(next, k)\n",
    "    \n",
    "    return prev"
   ]
  },
  {
   "cell_type": "code",
   "execution_count": 100,
   "metadata": {},
   "outputs": [],
   "source": [
    "[h, t] = reverseK(root, 3)"
   ]
  },
  {
   "cell_type": "code",
   "execution_count": 166,
   "metadata": {},
   "outputs": [
    {
     "name": "stdout",
     "output_type": "stream",
     "text": [
      "8->15->21->34->18->42->2->28->None\n"
     ]
    }
   ],
   "source": [
    "printList(root)"
   ]
  },
  {
   "cell_type": "code",
   "execution_count": 158,
   "metadata": {},
   "outputs": [],
   "source": [
    "def revK(root, k):\n",
    "    nextGen = root\n",
    "    f=0\n",
    "    head = None\n",
    "    start = None\n",
    "    end = Node(None)\n",
    "    while(nextGen.next is not None):\n",
    "        end.next=nextGen\n",
    "        [prev, new] = reverseK(nextGen, k)\n",
    "        \n",
    "        if(f==0):\n",
    "            head = start\n",
    "    return head"
   ]
  },
  {
   "cell_type": "code",
   "execution_count": 196,
   "metadata": {},
   "outputs": [
    {
     "name": "stdout",
     "output_type": "stream",
     "text": [
      "21->15->8->42->18->34->28->2->None\n"
     ]
    }
   ],
   "source": [
    "printList(q)"
   ]
  },
  {
   "cell_type": "code",
   "execution_count": 185,
   "metadata": {},
   "outputs": [],
   "source": [
    "q = reverseK(root, 2)"
   ]
  },
  {
   "cell_type": "code",
   "execution_count": 186,
   "metadata": {},
   "outputs": [
    {
     "name": "stdout",
     "output_type": "stream",
     "text": [
      "8->34->21->42->18->28->2->None\n"
     ]
    }
   ],
   "source": [
    "printList(root)"
   ]
  },
  {
   "cell_type": "code",
   "execution_count": 195,
   "metadata": {},
   "outputs": [],
   "source": [
    "q = reverseK(q, 3)"
   ]
  },
  {
   "cell_type": "code",
   "execution_count": null,
   "metadata": {},
   "outputs": [],
   "source": []
  }
 ],
 "metadata": {
  "kernelspec": {
   "display_name": "Python 3",
   "language": "python",
   "name": "python3"
  },
  "language_info": {
   "codemirror_mode": {
    "name": "ipython",
    "version": 3
   },
   "file_extension": ".py",
   "mimetype": "text/x-python",
   "name": "python",
   "nbconvert_exporter": "python",
   "pygments_lexer": "ipython3",
   "version": "3.6.5"
  }
 },
 "nbformat": 4,
 "nbformat_minor": 2
}
