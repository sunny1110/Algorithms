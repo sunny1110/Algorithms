{
 "cells": [
  {
   "cell_type": "code",
   "execution_count": 2,
   "metadata": {},
   "outputs": [],
   "source": [
    "class Node:\n",
    "    def __init__(self, val):\n",
    "        self.val = val\n",
    "        self.next = None"
   ]
  },
  {
   "cell_type": "code",
   "execution_count": 29,
   "metadata": {},
   "outputs": [],
   "source": [
    "n1 = Node(9)\n",
    "n1.next = Node(4)\n",
    "n1.next.next = Node(5)"
   ]
  },
  {
   "cell_type": "code",
   "execution_count": 30,
   "metadata": {},
   "outputs": [],
   "source": [
    "def printList(root):\n",
    "    while(root is not None):\n",
    "        print(root.val, end= \" \")\n",
    "        root = root.next"
   ]
  },
  {
   "cell_type": "code",
   "execution_count": 31,
   "metadata": {},
   "outputs": [
    {
     "name": "stdout",
     "output_type": "stream",
     "text": [
      "9 4 5 "
     ]
    }
   ],
   "source": [
    "printList(n1)"
   ]
  },
  {
   "cell_type": "code",
   "execution_count": 32,
   "metadata": {},
   "outputs": [],
   "source": [
    "n2 = Node(8)\n",
    "n2.next = Node(2)\n",
    "n2.next.next = Node(3)"
   ]
  },
  {
   "cell_type": "code",
   "execution_count": 33,
   "metadata": {},
   "outputs": [
    {
     "name": "stdout",
     "output_type": "stream",
     "text": [
      "8 2 3 "
     ]
    }
   ],
   "source": [
    "printList(n2)"
   ]
  },
  {
   "cell_type": "code",
   "execution_count": null,
   "metadata": {},
   "outputs": [],
   "source": []
  },
  {
   "cell_type": "code",
   "execution_count": 34,
   "metadata": {},
   "outputs": [],
   "source": [
    "def addLists(n1, n2):\n",
    "    addListsUtil.head = Node(None)\n",
    "    newList = addListsUtil(n1, n2)\n",
    "    if(newList>0):\n",
    "        newNode = Node(newList)\n",
    "        newNode.next = addListsUtil.head\n",
    "        addListsUtil.head = newNode\n",
    "    printList(addListsUtil.head)"
   ]
  },
  {
   "cell_type": "code",
   "execution_count": 35,
   "metadata": {},
   "outputs": [],
   "source": [
    "def addListsUtil(n1, n2):\n",
    "    if(n1 is None and n2 is None):\n",
    "        return 0\n",
    "    else:\n",
    "        nSum = n1.val + n2.val + addListsUtil(n1.next, n2.next)\n",
    "        nVal = nSum%10\n",
    "        nCarry = nSum//10\n",
    "        newNode = Node(nVal)\n",
    "        newNode.next = addListsUtil.head\n",
    "        addListsUtil.head = newNode\n",
    "        return nCarry"
   ]
  },
  {
   "cell_type": "code",
   "execution_count": 36,
   "metadata": {},
   "outputs": [
    {
     "name": "stdout",
     "output_type": "stream",
     "text": [
      "1 7 6 8 None "
     ]
    }
   ],
   "source": [
    "addLists(n1, n2)"
   ]
  },
  {
   "cell_type": "code",
   "execution_count": null,
   "metadata": {},
   "outputs": [],
   "source": []
  }
 ],
 "metadata": {
  "kernelspec": {
   "display_name": "Python 3",
   "language": "python",
   "name": "python3"
  },
  "language_info": {
   "codemirror_mode": {
    "name": "ipython",
    "version": 3
   },
   "file_extension": ".py",
   "mimetype": "text/x-python",
   "name": "python",
   "nbconvert_exporter": "python",
   "pygments_lexer": "ipython3",
   "version": "3.6.5"
  }
 },
 "nbformat": 4,
 "nbformat_minor": 2
}
