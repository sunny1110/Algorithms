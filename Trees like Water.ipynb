{
 "cells": [
  {
   "cell_type": "code",
   "execution_count": 275,
   "metadata": {},
   "outputs": [],
   "source": [
    "class Node:\n",
    "    def __init__(self, key):\n",
    "        self.val = key\n",
    "        self.left  = None\n",
    "        self.right = None"
   ]
  },
  {
   "cell_type": "code",
   "execution_count": 276,
   "metadata": {},
   "outputs": [],
   "source": [
    "root = Node(5)"
   ]
  },
  {
   "cell_type": "code",
   "execution_count": 277,
   "metadata": {},
   "outputs": [],
   "source": [
    "root.left = Node(3)"
   ]
  },
  {
   "cell_type": "code",
   "execution_count": 278,
   "metadata": {},
   "outputs": [],
   "source": [
    "root.right = Node(7)"
   ]
  },
  {
   "cell_type": "code",
   "execution_count": 279,
   "metadata": {},
   "outputs": [],
   "source": [
    "root.right.left = Node(4)"
   ]
  },
  {
   "cell_type": "code",
   "execution_count": 280,
   "metadata": {},
   "outputs": [],
   "source": [
    "root.right.right = Node(8)"
   ]
  },
  {
   "cell_type": "code",
   "execution_count": 345,
   "metadata": {},
   "outputs": [],
   "source": [
    "def tracePath(root, key):\n",
    "    path = []\n",
    "    tracePathUtil(root, key, path)"
   ]
  },
  {
   "cell_type": "code",
   "execution_count": 355,
   "metadata": {},
   "outputs": [],
   "source": [
    "def tracePathUtil(root, key, path):\n",
    "    print(x, end=\"as\")\n",
    "    if(root is None):\n",
    "        return\n",
    "    \n",
    "    if(root.val==key):\n",
    "        \n",
    "        path.append(root.val)\n",
    "        x.append(root.val)\n",
    "    else:\n",
    "        x.append(root.val)\n",
    "        path.append(root.val)\n",
    "        if(root.left):\n",
    "            tracePathUtil(root.left, key, path)\n",
    "        if(root.right):\n",
    "            tracePathUtil(root.right, key, path)\n",
    "        path.pop(len(path)-1)\n",
    "        x.pop(len(x)-1)\n",
    "#         print(\"No Path\")"
   ]
  },
  {
   "cell_type": "code",
   "execution_count": 358,
   "metadata": {},
   "outputs": [
    {
     "name": "stdout",
     "output_type": "stream",
     "text": [
      "[]as"
     ]
    }
   ],
   "source": [
    "tracePath(root, 5)"
   ]
  },
  {
   "cell_type": "code",
   "execution_count": 357,
   "metadata": {},
   "outputs": [],
   "source": [
    "x=[]\n"
   ]
  },
  {
   "cell_type": "code",
   "execution_count": 87,
   "metadata": {},
   "outputs": [],
   "source": [
    "def testRec(root):\n",
    "    if root is None:\n",
    "        print(\"Done\")\n",
    "    \n",
    "    if root.val==5:\n",
    "        print(\"Premature End\")\n",
    "    \n",
    "    \n",
    "    else:\n",
    "        print(\"Going left\")\n",
    "        testRec(root.left)\n",
    "    "
   ]
  },
  {
   "cell_type": "code",
   "execution_count": 88,
   "metadata": {},
   "outputs": [
    {
     "name": "stdout",
     "output_type": "stream",
     "text": [
      "Premature End\n"
     ]
    }
   ],
   "source": [
    "testRec(root)"
   ]
  },
  {
   "cell_type": "code",
   "execution_count": 256,
   "metadata": {},
   "outputs": [],
   "source": [
    "root.left.right = Node(2)\n",
    "root.left.left = Node(1)"
   ]
  },
  {
   "cell_type": "code",
   "execution_count": null,
   "metadata": {},
   "outputs": [],
   "source": []
  }
 ],
 "metadata": {
  "kernelspec": {
   "display_name": "Python 3",
   "language": "python",
   "name": "python3"
  },
  "language_info": {
   "codemirror_mode": {
    "name": "ipython",
    "version": 3
   },
   "file_extension": ".py",
   "mimetype": "text/x-python",
   "name": "python",
   "nbconvert_exporter": "python",
   "pygments_lexer": "ipython3",
   "version": "3.6.5"
  }
 },
 "nbformat": 4,
 "nbformat_minor": 2
}
