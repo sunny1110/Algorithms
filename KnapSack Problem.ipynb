{
 "cells": [
  {
   "cell_type": "code",
   "execution_count": 96,
   "metadata": {},
   "outputs": [],
   "source": [
    "def knapsack(w, v, c):\n",
    "    pr = 0\n",
    "    profit = knapsackUtil(w, v, c, pr, len(w)-1, {})\n",
    "    print(profit)\n",
    "    "
   ]
  },
  {
   "cell_type": "code",
   "execution_count": 147,
   "metadata": {},
   "outputs": [],
   "source": [
    "def knapsackUtil(w, v, c, pr, i, dict):\n",
    "    \n",
    "#     print(i)\n",
    "    print(\"Weight\",w[i])\n",
    "    print(\"Value\", pr)\n",
    "    print(\"Capacity \",c)\n",
    "    if c==0 or i<0:\n",
    "        return pr\n",
    "    \n",
    "    if(c in dict):\n",
    "        print(\"Looking up dictionary..\")\n",
    "        return dict[c]\n",
    "    \n",
    "    if(w[i]<=c):\n",
    "        higherP = max(knapsackUtil(w, v, c-w[i], pr+v[i], i-1, dict), knapsackUtil(w, v, c, pr, i-1, dict))\n",
    "        dict[c] = higherP\n",
    "        return higherP\n",
    "    \n",
    "    else:\n",
    "        return knapsackUtil(w, v, c, pr, i-1, dict)\n",
    "            \n",
    "    "
   ]
  },
  {
   "cell_type": "code",
   "execution_count": 148,
   "metadata": {},
   "outputs": [],
   "source": [
    "val = [60, 100, 120] \n",
    "wt = [10, 20, 30] \n",
    "W = 50"
   ]
  },
  {
   "cell_type": "code",
   "execution_count": 149,
   "metadata": {},
   "outputs": [
    {
     "name": "stdout",
     "output_type": "stream",
     "text": [
      "Weight 30\n",
      "Value 0\n",
      "Capacity  50\n",
      "Weight 20\n",
      "Value 120\n",
      "Capacity  20\n",
      "Weight 10\n",
      "Value 220\n",
      "Capacity  0\n",
      "Weight 10\n",
      "Value 120\n",
      "Capacity  20\n",
      "Weight 30\n",
      "Value 180\n",
      "Capacity  10\n",
      "Weight 30\n",
      "Value 120\n",
      "Capacity  20\n",
      "Weight 20\n",
      "Value 0\n",
      "Capacity  50\n",
      "Weight 10\n",
      "Value 100\n",
      "Capacity  30\n",
      "Weight 30\n",
      "Value 160\n",
      "Capacity  20\n",
      "Weight 30\n",
      "Value 100\n",
      "Capacity  30\n",
      "Weight 10\n",
      "Value 0\n",
      "Capacity  50\n",
      "Weight 30\n",
      "Value 60\n",
      "Capacity  40\n",
      "Weight 30\n",
      "Value 0\n",
      "Capacity  50\n",
      "220\n"
     ]
    }
   ],
   "source": [
    "knapsack(wt, val, W)"
   ]
  },
  {
   "cell_type": "code",
   "execution_count": 150,
   "metadata": {},
   "outputs": [],
   "source": [
    "val2 = [15, 10, 9, 5]\n",
    "wt2 = [1, 5, 3, 4]\n",
    "W2  = 8"
   ]
  },
  {
   "cell_type": "code",
   "execution_count": 151,
   "metadata": {},
   "outputs": [
    {
     "name": "stdout",
     "output_type": "stream",
     "text": [
      "Weight 4\n",
      "Value 0\n",
      "Capacity  8\n",
      "Weight 3\n",
      "Value 5\n",
      "Capacity  4\n",
      "Weight 5\n",
      "Value 14\n",
      "Capacity  1\n",
      "Weight 1\n",
      "Value 14\n",
      "Capacity  1\n",
      "Weight 4\n",
      "Value 29\n",
      "Capacity  0\n",
      "Weight 4\n",
      "Value 14\n",
      "Capacity  1\n",
      "Weight 5\n",
      "Value 5\n",
      "Capacity  4\n",
      "Weight 1\n",
      "Value 5\n",
      "Capacity  4\n",
      "Weight 4\n",
      "Value 20\n",
      "Capacity  3\n",
      "Weight 4\n",
      "Value 5\n",
      "Capacity  4\n",
      "Weight 3\n",
      "Value 0\n",
      "Capacity  8\n",
      "Weight 5\n",
      "Value 9\n",
      "Capacity  5\n",
      "Weight 1\n",
      "Value 19\n",
      "Capacity  0\n",
      "Weight 1\n",
      "Value 9\n",
      "Capacity  5\n",
      "Weight 4\n",
      "Value 24\n",
      "Capacity  4\n",
      "Weight 4\n",
      "Value 9\n",
      "Capacity  5\n",
      "Weight 5\n",
      "Value 0\n",
      "Capacity  8\n",
      "Weight 1\n",
      "Value 10\n",
      "Capacity  3\n",
      "Weight 4\n",
      "Value 25\n",
      "Capacity  2\n",
      "Weight 4\n",
      "Value 10\n",
      "Capacity  3\n",
      "Weight 1\n",
      "Value 0\n",
      "Capacity  8\n",
      "Weight 4\n",
      "Value 15\n",
      "Capacity  7\n",
      "Weight 4\n",
      "Value 0\n",
      "Capacity  8\n",
      "29\n"
     ]
    }
   ],
   "source": [
    "knapsack(wt2, val2, W2)"
   ]
  },
  {
   "cell_type": "code",
   "execution_count": null,
   "metadata": {},
   "outputs": [],
   "source": []
  },
  {
   "cell_type": "code",
   "execution_count": null,
   "metadata": {},
   "outputs": [],
   "source": []
  }
 ],
 "metadata": {
  "kernelspec": {
   "display_name": "Python 3",
   "language": "python",
   "name": "python3"
  },
  "language_info": {
   "codemirror_mode": {
    "name": "ipython",
    "version": 3
   },
   "file_extension": ".py",
   "mimetype": "text/x-python",
   "name": "python",
   "nbconvert_exporter": "python",
   "pygments_lexer": "ipython3",
   "version": "3.6.5"
  }
 },
 "nbformat": 4,
 "nbformat_minor": 2
}
