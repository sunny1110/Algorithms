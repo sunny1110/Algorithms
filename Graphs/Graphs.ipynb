{
 "cells": [
  {
   "cell_type": "code",
   "execution_count": 35,
   "metadata": {},
   "outputs": [],
   "source": [
    "class Graph:\n",
    "    def __init__(self):\n",
    "        self.graph = {}\n",
    "        \n",
    "    def addEdge(self, u, v):\n",
    "        if u in self.graph:\n",
    "            self.graph[u].insert(len(self.graph[u]), v)\n",
    "        else:\n",
    "            new = [v]\n",
    "            self.graph[u] = new\n",
    "        if v in self.graph:\n",
    "            self.graph[v].insert(len(self.graph[u]), u)\n",
    "        else:\n",
    "            new = [u]\n",
    "            self.graph[v] = new"
   ]
  },
  {
   "cell_type": "code",
   "execution_count": 41,
   "metadata": {},
   "outputs": [],
   "source": [
    "g = Graph()"
   ]
  },
  {
   "cell_type": "code",
   "execution_count": 42,
   "metadata": {},
   "outputs": [],
   "source": [
    "g.addEdge(1, 2)\n",
    "g.addEdge(1, 4)"
   ]
  },
  {
   "cell_type": "code",
   "execution_count": 43,
   "metadata": {},
   "outputs": [],
   "source": [
    "g.addEdge(4, 3)"
   ]
  },
  {
   "cell_type": "code",
   "execution_count": 44,
   "metadata": {},
   "outputs": [],
   "source": [
    "g.addEdge(3, 2)\n",
    "g.addEdge(3, 10)\n",
    "g.addEdge(3, 9)"
   ]
  },
  {
   "cell_type": "code",
   "execution_count": 46,
   "metadata": {},
   "outputs": [],
   "source": [
    "g.addEdge(2, 5)\n",
    "g.addEdge(2, 7)\n",
    "g.addEdge(2, 8)"
   ]
  },
  {
   "cell_type": "code",
   "execution_count": 47,
   "metadata": {},
   "outputs": [],
   "source": [
    "g.addEdge(6, 5)"
   ]
  },
  {
   "cell_type": "code",
   "execution_count": 58,
   "metadata": {},
   "outputs": [
    {
     "data": {
      "text/plain": [
       "5"
      ]
     },
     "execution_count": 58,
     "metadata": {},
     "output_type": "execute_result"
    }
   ],
   "source": [
    "len(g.graph[2])"
   ]
  },
  {
   "cell_type": "code",
   "execution_count": 75,
   "metadata": {},
   "outputs": [],
   "source": [
    "def BFS(g, s):\n",
    "    visited = [False] * (len(g.graph))\n",
    "    \n",
    "    q = [s]\n",
    "    visited[s-1] = True\n",
    "    print(s, end = \" \")\n",
    "    while(q):\n",
    "        for i in range(len(g.graph[q[0]])):\n",
    "            if not visited[g.graph[q[0]][i]-1]:\n",
    "                print(g.graph[q[0]][i], end = \" \")\n",
    "                visited[g.graph[q[0]][i]-1] = True\n",
    "                q.append(g.graph[q[0]][i])\n",
    "        q.pop(0)\n",
    "    "
   ]
  },
  {
   "cell_type": "code",
   "execution_count": 93,
   "metadata": {},
   "outputs": [],
   "source": [
    "def DFS(g, s):\n",
    "    visited = [False] * (len(g.graph))\n",
    "    DFSUtil(g, s, visited)\n",
    "    "
   ]
  },
  {
   "cell_type": "code",
   "execution_count": 97,
   "metadata": {},
   "outputs": [],
   "source": [
    "def DFSUtil(g, s, visited):\n",
    "    visited[s-1] = True\n",
    "    print(s, end=\" \")\n",
    "    \n",
    "    for i in g.graph[s]:\n",
    "        if not visited[i-1]:\n",
    "            DFSUtil(g, i, visited)\n",
    "            "
   ]
  },
  {
   "cell_type": "code",
   "execution_count": 98,
   "metadata": {},
   "outputs": [
    {
     "name": "stdout",
     "output_type": "stream",
     "text": [
      "1 2 3 4 10 9 5 6 8 7 "
     ]
    }
   ],
   "source": [
    "DFS(g, 1)\n",
    "    "
   ]
  },
  {
   "cell_type": "code",
   "execution_count": 99,
   "metadata": {},
   "outputs": [
    {
     "name": "stdout",
     "output_type": "stream",
     "text": [
      "1 2 4 3 5 7 8 10 9 6 "
     ]
    }
   ],
   "source": [
    "BFS(g, 1)"
   ]
  },
  {
   "cell_type": "code",
   "execution_count": 101,
   "metadata": {},
   "outputs": [],
   "source": [
    "g2 = Graph()"
   ]
  },
  {
   "cell_type": "code",
   "execution_count": 102,
   "metadata": {},
   "outputs": [],
   "source": [
    "g2.addEdge(0, 3)"
   ]
  },
  {
   "cell_type": "code",
   "execution_count": 103,
   "metadata": {},
   "outputs": [],
   "source": [
    "g2.addEdge(0, 1)"
   ]
  },
  {
   "cell_type": "code",
   "execution_count": 104,
   "metadata": {},
   "outputs": [],
   "source": [
    "g2.addEdge(0, 2)"
   ]
  },
  {
   "cell_type": "code",
   "execution_count": 105,
   "metadata": {},
   "outputs": [],
   "source": [
    "g2.addEdge(1, 2)"
   ]
  },
  {
   "cell_type": "code",
   "execution_count": 106,
   "metadata": {},
   "outputs": [],
   "source": [
    "g2.addEdge(2, 4)"
   ]
  },
  {
   "cell_type": "code",
   "execution_count": 107,
   "metadata": {},
   "outputs": [
    {
     "data": {
      "text/plain": [
       "{0: [3, 1, 2], 3: [0], 1: [0, 2], 2: [0, 1, 4], 4: [2]}"
      ]
     },
     "execution_count": 107,
     "metadata": {},
     "output_type": "execute_result"
    }
   ],
   "source": [
    "g2.graph"
   ]
  },
  {
   "cell_type": "code",
   "execution_count": 109,
   "metadata": {},
   "outputs": [
    {
     "name": "stdout",
     "output_type": "stream",
     "text": [
      "0 3 1 2 4 "
     ]
    }
   ],
   "source": [
    "BFS(g2, 0)"
   ]
  },
  {
   "cell_type": "code",
   "execution_count": 110,
   "metadata": {},
   "outputs": [
    {
     "name": "stdout",
     "output_type": "stream",
     "text": [
      "0 3 1 2 4 "
     ]
    }
   ],
   "source": [
    "DFS(g2, 0)"
   ]
  },
  {
   "cell_type": "code",
   "execution_count": 111,
   "metadata": {},
   "outputs": [],
   "source": [
    "g3 = Graph()"
   ]
  },
  {
   "cell_type": "code",
   "execution_count": 113,
   "metadata": {},
   "outputs": [],
   "source": [
    "g3.addEdge('s', 'a')"
   ]
  },
  {
   "cell_type": "code",
   "execution_count": 114,
   "metadata": {},
   "outputs": [],
   "source": [
    "g3.addEdge('s', 'b')\n",
    "g3.addEdge('s', 'c')\n",
    "g3.addEdge('a', 'd')\n",
    "g3.addEdge('d', 'g')\n",
    "g3.addEdge('e', 'g')\n",
    "g3.addEdge('c', 'f')\n",
    "g3.addEdge('g', 'f')\n"
   ]
  },
  {
   "cell_type": "code",
   "execution_count": 117,
   "metadata": {},
   "outputs": [
    {
     "data": {
      "text/plain": [
       "{'s': ['a', 'b', 'c'],\n",
       " 'a': ['s', 'd'],\n",
       " 'b': ['s', 'e'],\n",
       " 'c': ['s', 'f'],\n",
       " 'd': ['a', 'g'],\n",
       " 'g': ['d', 'e', 'f'],\n",
       " 'e': ['g', 'b'],\n",
       " 'f': ['c', 'g']}"
      ]
     },
     "execution_count": 117,
     "metadata": {},
     "output_type": "execute_result"
    }
   ],
   "source": [
    "g3.graph"
   ]
  },
  {
   "cell_type": "code",
   "execution_count": 132,
   "metadata": {},
   "outputs": [
    {
     "name": "stdout",
     "output_type": "stream",
     "text": [
      "s a d g e b f c "
     ]
    }
   ],
   "source": [
    "DFSS(g3, 's')"
   ]
  },
  {
   "cell_type": "code",
   "execution_count": 128,
   "metadata": {},
   "outputs": [],
   "source": [
    "def DFSS(g, s):\n",
    "    visited = [False] * 26\n",
    "    DFSSUtil(g, s, visited)\n",
    "    "
   ]
  },
  {
   "cell_type": "code",
   "execution_count": 131,
   "metadata": {},
   "outputs": [],
   "source": [
    "def DFSSUtil(g, s, visited):\n",
    "    visited[ord(s)-96] = True\n",
    "    print(s, end=\" \")\n",
    "    \n",
    "    for i in g.graph[s]:\n",
    "        if not visited[ord(i)-96]:\n",
    "            DFSSUtil(g, i, visited)"
   ]
  },
  {
   "cell_type": "code",
   "execution_count": null,
   "metadata": {},
   "outputs": [],
   "source": []
  }
 ],
 "metadata": {
  "kernelspec": {
   "display_name": "Python 3",
   "language": "python",
   "name": "python3"
  },
  "language_info": {
   "codemirror_mode": {
    "name": "ipython",
    "version": 3
   },
   "file_extension": ".py",
   "mimetype": "text/x-python",
   "name": "python",
   "nbconvert_exporter": "python",
   "pygments_lexer": "ipython3",
   "version": "3.6.5"
  }
 },
 "nbformat": 4,
 "nbformat_minor": 2
}
