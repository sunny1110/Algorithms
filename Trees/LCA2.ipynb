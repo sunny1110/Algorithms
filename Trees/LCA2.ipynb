{
 "cells": [
  {
   "cell_type": "code",
   "execution_count": 1,
   "metadata": {},
   "outputs": [],
   "source": [
    "class Node:\n",
    "    def __init__(self, val):\n",
    "        self.val = val\n",
    "        self.right = None\n",
    "        self.left = None"
   ]
  },
  {
   "cell_type": "code",
   "execution_count": 2,
   "metadata": {},
   "outputs": [],
   "source": [
    "root = Node(1) \n",
    "root.left = Node(2) \n",
    "root.right = Node(3) \n",
    "root.left.left = Node(4) \n",
    "root.left.right = Node(5) \n",
    "root.right.right = Node(6) \n",
    "root.left.left.left = Node(7) \n",
    "root.left.left.right = Node(8) \n",
    "root.right.right.left = Node(9) \n",
    "root.right.right.right = Node(10) \n"
   ]
  },
  {
   "cell_type": "code",
   "execution_count": 3,
   "metadata": {},
   "outputs": [],
   "source": [
    "def preOrder(root):\n",
    "    if(root is None):\n",
    "        return\n",
    "    print(root.val, end= \" \")\n",
    "    if(root.left):\n",
    "        preOrder(root.left)\n",
    "    if(root.right):\n",
    "        preOrder(root.right)"
   ]
  },
  {
   "cell_type": "code",
   "execution_count": 10,
   "metadata": {},
   "outputs": [],
   "source": [
    "def LCA(root, k1, k2):\n",
    "    \n",
    "    v = [False, False]\n",
    "    factNode = lcaUtil(root, k1, k2, v)\n",
    "    \n",
    "    if(v[0] and v[1] or v[0] and find(factNode, k2) or v[1] and find(factNode, k1)):\n",
    "        print(factNode.val)\n",
    "    else:\n",
    "        print(\"None!\")"
   ]
  },
  {
   "cell_type": "code",
   "execution_count": 11,
   "metadata": {},
   "outputs": [],
   "source": [
    "def lcaUtil(root, k1, k2, v):\n",
    "    \n",
    "    if root is None:\n",
    "        return\n",
    "    \n",
    "    if root.val==k1:\n",
    "        v[0] = True\n",
    "        return root\n",
    "    \n",
    "    if root.val==k2:\n",
    "        v[1] = True\n",
    "        return root\n",
    "    \n",
    "    leftLca = lcaUtil(root.left, k1, k2, v)\n",
    "    rightLca = lcaUtil(root.right, k1, k2, v)\n",
    "    \n",
    "    if(leftLca is not None and rightLca is not None):\n",
    "        return root\n",
    "    \n",
    "    return leftLca if leftLca is not None else rightLca"
   ]
  },
  {
   "cell_type": "code",
   "execution_count": 12,
   "metadata": {},
   "outputs": [],
   "source": [
    "def find(root, x):\n",
    "    if root is None:\n",
    "        return False\n",
    "    \n",
    "    if(root.val == x or find(root.left, x) or find(root.right, x)):\n",
    "        return True\n",
    "    \n",
    "    return False\n",
    "    "
   ]
  },
  {
   "cell_type": "code",
   "execution_count": 18,
   "metadata": {},
   "outputs": [
    {
     "name": "stdout",
     "output_type": "stream",
     "text": [
      "2\n"
     ]
    }
   ],
   "source": [
    "LCA(root, 4, 2)"
   ]
  },
  {
   "cell_type": "code",
   "execution_count": null,
   "metadata": {},
   "outputs": [],
   "source": []
  }
 ],
 "metadata": {
  "kernelspec": {
   "display_name": "Python 3",
   "language": "python",
   "name": "python3"
  },
  "language_info": {
   "codemirror_mode": {
    "name": "ipython",
    "version": 3
   },
   "file_extension": ".py",
   "mimetype": "text/x-python",
   "name": "python",
   "nbconvert_exporter": "python",
   "pygments_lexer": "ipython3",
   "version": "3.6.5"
  }
 },
 "nbformat": 4,
 "nbformat_minor": 2
}
