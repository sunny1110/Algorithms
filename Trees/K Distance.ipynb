{
 "cells": [
  {
   "cell_type": "code",
   "execution_count": 1,
   "metadata": {},
   "outputs": [],
   "source": [
    "class Node:\n",
    "    def __init__(self, val):\n",
    "        self.val = val\n",
    "        self.right = None\n",
    "        self.left = None"
   ]
  },
  {
   "cell_type": "code",
   "execution_count": 2,
   "metadata": {},
   "outputs": [],
   "source": [
    "root = Node(1) \n",
    "root.left = Node(2) \n",
    "root.right = Node(3) \n",
    "root.left.left = Node(4) \n",
    "root.left.right = Node(5) \n",
    "root.right.right = Node(6) \n",
    "root.left.left.left = Node(7) \n",
    "root.left.left.right = Node(8) \n",
    "root.right.right.left = Node(9) \n",
    "root.right.right.right = Node(10) \n"
   ]
  },
  {
   "cell_type": "code",
   "execution_count": 3,
   "metadata": {},
   "outputs": [],
   "source": [
    "def preOrder(root):\n",
    "    if(root is None):\n",
    "        return\n",
    "    print(root.val, end= \" \")\n",
    "    if(root.left):\n",
    "        preOrder(root.left)\n",
    "    if(root.right):\n",
    "        preOrder(root.right)"
   ]
  },
  {
   "cell_type": "code",
   "execution_count": 4,
   "metadata": {},
   "outputs": [
    {
     "name": "stdout",
     "output_type": "stream",
     "text": [
      "1 2 4 7 8 5 3 6 9 10 "
     ]
    }
   ],
   "source": [
    "preOrder(root)"
   ]
  },
  {
   "cell_type": "code",
   "execution_count": 5,
   "metadata": {},
   "outputs": [],
   "source": [
    "def distanceK(root, k):\n",
    "    distanceKUtil(root, k, 0)"
   ]
  },
  {
   "cell_type": "code",
   "execution_count": 6,
   "metadata": {},
   "outputs": [],
   "source": [
    "def distanceKUtil(root, k, level):\n",
    "    if root is None:\n",
    "        return\n",
    "    if(level == k):\n",
    "        print(root.val)\n",
    "        return\n",
    "    else:\n",
    "        distanceKUtil(root.left, k, level+1)\n",
    "        distanceKUtil(root.right, k, level+1)"
   ]
  },
  {
   "cell_type": "code",
   "execution_count": 8,
   "metadata": {},
   "outputs": [
    {
     "name": "stdout",
     "output_type": "stream",
     "text": [
      "7\n",
      "8\n",
      "9\n",
      "10\n"
     ]
    }
   ],
   "source": [
    "distanceK(root, 3)"
   ]
  },
  {
   "cell_type": "code",
   "execution_count": null,
   "metadata": {},
   "outputs": [],
   "source": []
  }
 ],
 "metadata": {
  "kernelspec": {
   "display_name": "Python 3",
   "language": "python",
   "name": "python3"
  },
  "language_info": {
   "codemirror_mode": {
    "name": "ipython",
    "version": 3
   },
   "file_extension": ".py",
   "mimetype": "text/x-python",
   "name": "python",
   "nbconvert_exporter": "python",
   "pygments_lexer": "ipython3",
   "version": "3.6.5"
  }
 },
 "nbformat": 4,
 "nbformat_minor": 2
}
