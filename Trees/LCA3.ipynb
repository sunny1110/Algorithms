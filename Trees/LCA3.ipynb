{
 "cells": [
  {
   "cell_type": "code",
   "execution_count": 1,
   "metadata": {},
   "outputs": [],
   "source": [
    "class Node:\n",
    "    def __init__(self, val):\n",
    "        self.left = None\n",
    "        self.right = None\n",
    "        self.val = val\n",
    "        "
   ]
  },
  {
   "cell_type": "code",
   "execution_count": 4,
   "metadata": {},
   "outputs": [],
   "source": [
    "root = Node(3)"
   ]
  },
  {
   "cell_type": "code",
   "execution_count": 11,
   "metadata": {},
   "outputs": [],
   "source": [
    "root.left = Node(5)\n",
    "root.right = Node(2)\n",
    "root.right.right = Node(7)\n",
    "root.left.right = Node(1)\n",
    "root.right.left = Node(8)\n",
    "root.left.left = Node(6)"
   ]
  },
  {
   "cell_type": "code",
   "execution_count": 12,
   "metadata": {},
   "outputs": [],
   "source": [
    "def preorder(root):\n",
    "    if root is None:\n",
    "        return\n",
    "    print(root.val, end=\" \")\n",
    "    preorder(root.left)\n",
    "    preorder(root.right)"
   ]
  },
  {
   "cell_type": "code",
   "execution_count": 13,
   "metadata": {},
   "outputs": [
    {
     "name": "stdout",
     "output_type": "stream",
     "text": [
      "3 5 6 1 2 8 7 "
     ]
    }
   ],
   "source": [
    "preorder(root)"
   ]
  },
  {
   "cell_type": "code",
   "execution_count": 21,
   "metadata": {},
   "outputs": [],
   "source": [
    "def lca(root, a, b):\n",
    "    v = [False, False]\n",
    "    lca = lcaUtil(root, a, b, v)\n",
    "    if(v[0] and v[1] or lca and find(lca, b) or lca and find(lca, a)):\n",
    "        return lca.val\n",
    "    else:\n",
    "        return None"
   ]
  },
  {
   "cell_type": "code",
   "execution_count": 22,
   "metadata": {},
   "outputs": [],
   "source": [
    "def lcaUtil(root, a, b, v):\n",
    "    if(root is None):\n",
    "        return\n",
    "    if(root.val==a):\n",
    "        v[0] = True\n",
    "        return root\n",
    "    if(root.val==b):\n",
    "        v[1] = True\n",
    "        return root\n",
    "    \n",
    "    leftLCA = lcaUtil(root.left, a, b, v)\n",
    "    rightLCA = lcaUtil(root.right, a, b, v)\n",
    "    \n",
    "    if(leftLCA is not None and rightLCA is not None):\n",
    "        return root\n",
    "    \n",
    "    if leftLCA is not None:\n",
    "        return lefLCA\n",
    "    if rightLCA is not None:\n",
    "        return rightLCA"
   ]
  },
  {
   "cell_type": "code",
   "execution_count": 23,
   "metadata": {},
   "outputs": [],
   "source": [
    "def find(root, x):\n",
    "    if(root.val is None):\n",
    "        return False\n",
    "    if(root.val == x or find(root.left, x) or find(root.right, x)):\n",
    "        return True\n",
    "    \n",
    "    return False"
   ]
  },
  {
   "cell_type": "code",
   "execution_count": 25,
   "metadata": {},
   "outputs": [
    {
     "data": {
      "text/plain": [
       "2"
      ]
     },
     "execution_count": 25,
     "metadata": {},
     "output_type": "execute_result"
    }
   ],
   "source": [
    "lca(root, 7, 8)"
   ]
  },
  {
   "cell_type": "code",
   "execution_count": null,
   "metadata": {},
   "outputs": [],
   "source": []
  }
 ],
 "metadata": {
  "kernelspec": {
   "display_name": "Python 3",
   "language": "python",
   "name": "python3"
  },
  "language_info": {
   "codemirror_mode": {
    "name": "ipython",
    "version": 3
   },
   "file_extension": ".py",
   "mimetype": "text/x-python",
   "name": "python",
   "nbconvert_exporter": "python",
   "pygments_lexer": "ipython3",
   "version": "3.6.5"
  }
 },
 "nbformat": 4,
 "nbformat_minor": 2
}
