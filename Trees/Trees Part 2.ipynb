{
 "cells": [
  {
   "cell_type": "code",
   "execution_count": 2,
   "metadata": {},
   "outputs": [],
   "source": [
    "class Node:\n",
    "    def __init__(self, val):\n",
    "        self.val = val\n",
    "        self.right = None\n",
    "        self.left = None\n",
    "        "
   ]
  },
  {
   "cell_type": "code",
   "execution_count": 3,
   "metadata": {},
   "outputs": [],
   "source": [
    "def insertNode(root, val):\n",
    "    current = root\n",
    "    if(val < current.val):\n",
    "        if(current.left is None):\n",
    "            current.left = Node(val)\n",
    "        else:\n",
    "            insertNode(current.left, val)\n",
    "    else:\n",
    "        if(current.right is None):\n",
    "            current.right = Node(val)\n",
    "        else:\n",
    "            insertNode(current.right, val)"
   ]
  },
  {
   "cell_type": "code",
   "execution_count": 4,
   "metadata": {},
   "outputs": [],
   "source": [
    "root = Node(20)"
   ]
  },
  {
   "cell_type": "code",
   "execution_count": 5,
   "metadata": {},
   "outputs": [],
   "source": [
    "insertNode(root, 10)"
   ]
  },
  {
   "cell_type": "code",
   "execution_count": 6,
   "metadata": {},
   "outputs": [],
   "source": [
    "insertNode(root, 30)"
   ]
  },
  {
   "cell_type": "code",
   "execution_count": 7,
   "metadata": {},
   "outputs": [],
   "source": [
    "def inOrder(root):\n",
    "    if(root.left):\n",
    "        inOrder(root.left)\n",
    "    print(root.val)\n",
    "    if(root.right):\n",
    "        inOrder(root.right)"
   ]
  },
  {
   "cell_type": "code",
   "execution_count": 10,
   "metadata": {},
   "outputs": [
    {
     "name": "stdout",
     "output_type": "stream",
     "text": [
      "5\n",
      "10\n",
      "20\n",
      "30\n"
     ]
    }
   ],
   "source": [
    "inOrder(root)"
   ]
  },
  {
   "cell_type": "code",
   "execution_count": 9,
   "metadata": {},
   "outputs": [],
   "source": [
    "insertNode(root, 5)"
   ]
  },
  {
   "cell_type": "code",
   "execution_count": 11,
   "metadata": {},
   "outputs": [],
   "source": [
    "def preOrder(root):\n",
    "    print(root.val)\n",
    "    if(root.left):\n",
    "        preOrder(root.left)\n",
    "    if(root.right):\n",
    "        preOrder(root.right)"
   ]
  },
  {
   "cell_type": "code",
   "execution_count": 12,
   "metadata": {},
   "outputs": [
    {
     "name": "stdout",
     "output_type": "stream",
     "text": [
      "20\n",
      "10\n",
      "5\n",
      "30\n"
     ]
    }
   ],
   "source": [
    "preOrder(root)"
   ]
  },
  {
   "cell_type": "code",
   "execution_count": 13,
   "metadata": {},
   "outputs": [],
   "source": [
    "def postOrder(root):\n",
    "    if(root.left):\n",
    "        postOrder(root.left)\n",
    "    if(root.right):\n",
    "        postOrder(root.right)\n",
    "    print(root.val)"
   ]
  },
  {
   "cell_type": "code",
   "execution_count": 14,
   "metadata": {},
   "outputs": [
    {
     "name": "stdout",
     "output_type": "stream",
     "text": [
      "5\n",
      "10\n",
      "30\n",
      "20\n"
     ]
    }
   ],
   "source": [
    "postOrder(root)"
   ]
  },
  {
   "cell_type": "code",
   "execution_count": 15,
   "metadata": {},
   "outputs": [],
   "source": [
    "insertNode(root, 2)"
   ]
  },
  {
   "cell_type": "code",
   "execution_count": 16,
   "metadata": {},
   "outputs": [
    {
     "name": "stdout",
     "output_type": "stream",
     "text": [
      "20\n",
      "10\n",
      "5\n",
      "2\n",
      "30\n"
     ]
    }
   ],
   "source": [
    "preOrder(root)"
   ]
  },
  {
   "cell_type": "code",
   "execution_count": 17,
   "metadata": {},
   "outputs": [],
   "source": [
    "def leftView(root):\n",
    "    print(root.val)\n",
    "    if(root.left):\n",
    "        leftView(root.left)\n",
    "    "
   ]
  },
  {
   "cell_type": "code",
   "execution_count": 18,
   "metadata": {},
   "outputs": [
    {
     "name": "stdout",
     "output_type": "stream",
     "text": [
      "20\n",
      "10\n",
      "5\n",
      "2\n"
     ]
    }
   ],
   "source": [
    "leftView(root)"
   ]
  },
  {
   "cell_type": "code",
   "execution_count": 19,
   "metadata": {},
   "outputs": [],
   "source": [
    "def treeHeight(root, count=0):\n",
    "    if(root is None):\n",
    "        return 0\n",
    "    else:\n",
    "        leftHeight = treeHeight(root.left, count+1)\n",
    "        rightHeight = treeHeight(root.right, count+1)\n",
    "        if(leftHeight>rightHeight):\n",
    "            return leftHeight + 1\n",
    "        else:\n",
    "            return rightHeight + 1\n",
    "        "
   ]
  },
  {
   "cell_type": "code",
   "execution_count": 20,
   "metadata": {},
   "outputs": [],
   "source": [
    "oneTree = Node(5)"
   ]
  },
  {
   "cell_type": "code",
   "execution_count": 21,
   "metadata": {},
   "outputs": [
    {
     "data": {
      "text/plain": [
       "4"
      ]
     },
     "execution_count": 21,
     "metadata": {},
     "output_type": "execute_result"
    }
   ],
   "source": [
    "treeHeight(root)"
   ]
  },
  {
   "cell_type": "code",
   "execution_count": 22,
   "metadata": {},
   "outputs": [],
   "source": [
    "insertNode(oneTree, 3)"
   ]
  },
  {
   "cell_type": "code",
   "execution_count": 23,
   "metadata": {},
   "outputs": [],
   "source": [
    "def printLevel(root, level):\n",
    "    if root is None:\n",
    "        return 0\n",
    "    if level == 1:\n",
    "        print(root.val)\n",
    "    else:\n",
    "        printLevel(root.left, level-1)\n",
    "        printLevel(root.right, level-1)"
   ]
  },
  {
   "cell_type": "code",
   "execution_count": 37,
   "metadata": {},
   "outputs": [
    {
     "name": "stdout",
     "output_type": "stream",
     "text": [
      "20\n"
     ]
    }
   ],
   "source": [
    "printLevel(root, 1)"
   ]
  },
  {
   "cell_type": "code",
   "execution_count": 53,
   "metadata": {},
   "outputs": [],
   "source": [
    "insertNode(root, 35)"
   ]
  },
  {
   "cell_type": "code",
   "execution_count": 36,
   "metadata": {},
   "outputs": [
    {
     "name": "stdout",
     "output_type": "stream",
     "text": [
      "2\n",
      "5\n",
      "10\n",
      "20\n",
      "30\n"
     ]
    }
   ],
   "source": [
    "inOrder(root)"
   ]
  },
  {
   "cell_type": "code",
   "execution_count": 56,
   "metadata": {},
   "outputs": [],
   "source": [
    "insertNode(root, 48)"
   ]
  },
  {
   "cell_type": "code",
   "execution_count": 57,
   "metadata": {},
   "outputs": [],
   "source": [
    "insertNode(root, 51)"
   ]
  },
  {
   "cell_type": "code",
   "execution_count": 102,
   "metadata": {},
   "outputs": [],
   "source": [
    "def leftView(root, level):\n",
    "    if root is None:\n",
    "        return 0\n",
    "    if level == 1:\n",
    "        print(root.val)\n",
    "    else:\n",
    "        print(treeHeight(root.left))\n",
    "        print(treeHeight(root.right))\n",
    "        print(level)\n",
    "        if(treeHeight(root.left) >= treeHeight(root.right)):\n",
    "            print(\"Going left\")\n",
    "            printLevel(root.left, level-1)\n",
    "        else:\n",
    "            print(\"Going right\")\n",
    "            printLevel(root.right, level-1)"
   ]
  },
  {
   "cell_type": "code",
   "execution_count": 103,
   "metadata": {},
   "outputs": [
    {
     "name": "stdout",
     "output_type": "stream",
     "text": [
      "3\n",
      "4\n",
      "5\n",
      "Going right\n",
      "47\n",
      "51\n"
     ]
    }
   ],
   "source": [
    "leftView(root, 5)"
   ]
  },
  {
   "cell_type": "code",
   "execution_count": 92,
   "metadata": {},
   "outputs": [],
   "source": [
    "insertNode(root, 47)"
   ]
  },
  {
   "cell_type": "code",
   "execution_count": 107,
   "metadata": {},
   "outputs": [
    {
     "name": "stdout",
     "output_type": "stream",
     "text": [
      "2\n",
      "5\n",
      "10\n",
      "20\n",
      "30\n",
      "35\n",
      "47\n",
      "48\n",
      "51\n"
     ]
    }
   ],
   "source": [
    "inOrder(root)"
   ]
  },
  {
   "cell_type": "code",
   "execution_count": 140,
   "metadata": {},
   "outputs": [],
   "source": [
    "def leftViewUtil(root, level, max_level):\n",
    "    if root is None:\n",
    "        return\n",
    "    if(max_level[0]<level):\n",
    "#         print(max_level)\n",
    "#         print(level)\n",
    "        print(root.val)\n",
    "        max_level[0] = level\n",
    "    \n",
    "    leftViewUtil(root.right, level+1, max_level)\n",
    "    leftViewUtil(root.left, level+1, max_level)"
   ]
  },
  {
   "cell_type": "code",
   "execution_count": 141,
   "metadata": {},
   "outputs": [],
   "source": [
    "def leftView(root):\n",
    "    max_level = [0]\n",
    "    leftViewUtil(root, 1, max_level)"
   ]
  },
  {
   "cell_type": "code",
   "execution_count": 142,
   "metadata": {},
   "outputs": [
    {
     "name": "stdout",
     "output_type": "stream",
     "text": [
      "20\n",
      "30\n",
      "35\n",
      "48\n",
      "51\n"
     ]
    }
   ],
   "source": [
    "leftView(root)"
   ]
  },
  {
   "cell_type": "code",
   "execution_count": 143,
   "metadata": {},
   "outputs": [],
   "source": [
    "class llNode:\n",
    "    def __init__(self, val):\n",
    "        self.val = val\n",
    "        self.next = None\n",
    "    "
   ]
  },
  {
   "cell_type": "code",
   "execution_count": 145,
   "metadata": {},
   "outputs": [],
   "source": [
    "list = llNode(None)"
   ]
  },
  {
   "cell_type": "code",
   "execution_count": 200,
   "metadata": {},
   "outputs": [],
   "source": [
    "def tree2List(root, list):\n",
    "    list.append(root.val)\n",
    "    if(root.left):\n",
    "        tree2List(root.left, list)\n",
    "    if(root.right):\n",
    "        tree2List(root.right, list)\n",
    "    "
   ]
  },
  {
   "cell_type": "code",
   "execution_count": 196,
   "metadata": {},
   "outputs": [],
   "source": [
    "def printList(root):\n",
    "    current = root\n",
    "    while(current.next is not None):\n",
    "        previous = current\n",
    "        print(current.val, end=\"->\")\n",
    "        current = current.next\n",
    "    print(current.val)"
   ]
  },
  {
   "cell_type": "code",
   "execution_count": 201,
   "metadata": {},
   "outputs": [],
   "source": [
    "tree2List(root, x)"
   ]
  },
  {
   "cell_type": "code",
   "execution_count": 202,
   "metadata": {},
   "outputs": [
    {
     "data": {
      "text/plain": [
       "[20, 10, 5, 2, 30, 35, 48, 47, 51]"
      ]
     },
     "execution_count": 202,
     "metadata": {},
     "output_type": "execute_result"
    }
   ],
   "source": [
    "x"
   ]
  },
  {
   "cell_type": "code",
   "execution_count": 254,
   "metadata": {},
   "outputs": [],
   "source": [
    "def bottomViewUtil(root, lowest, hf, stateMap):\n",
    "    if hf not in stateMap:\n",
    "#         print(root.val)\n",
    "        if hf < lowest[0]:\n",
    "            lowest[0] = hf\n",
    "        stateMap[hf] = root.val\n",
    "    if(root.left):\n",
    "        if(hf<lowest[0]):\n",
    "            lowest[0] = hf\n",
    "        bottomViewUtil(root.left, lowest, hf-1, stateMap)\n",
    "        \n",
    "    if(root.right):\n",
    "        bottomViewUtil(root.right, lowest, hf+1, stateMap)\n",
    "    \n",
    "#     print(stateMap)\n",
    "    \n",
    "    "
   ]
  },
  {
   "cell_type": "code",
   "execution_count": 255,
   "metadata": {},
   "outputs": [],
   "source": [
    "def bottomView(root):\n",
    "    stateMap = {}\n",
    "    hf = 0\n",
    "    lowest = [0]\n",
    "    bottomViewUtil(root, lowest, hf, stateMap)\n",
    "    lowestVal = lowest[0]\n",
    "    for i in range(lowestVal, len(stateMap)-abs(lowestVal)):\n",
    "        print(stateMap[i], end=\" \")"
   ]
  },
  {
   "cell_type": "code",
   "execution_count": 256,
   "metadata": {},
   "outputs": [
    {
     "name": "stdout",
     "output_type": "stream",
     "text": [
      "2\n",
      "5\n",
      "10\n",
      "20\n",
      "30\n",
      "35\n",
      "47\n",
      "48\n",
      "51\n"
     ]
    }
   ],
   "source": [
    "inOrder(root)"
   ]
  },
  {
   "cell_type": "code",
   "execution_count": 257,
   "metadata": {},
   "outputs": [
    {
     "name": "stdout",
     "output_type": "stream",
     "text": [
      "2 5 10 20 30 35 48 51 "
     ]
    }
   ],
   "source": [
    "bottomView(root)"
   ]
  },
  {
   "cell_type": "code",
   "execution_count": 225,
   "metadata": {},
   "outputs": [
    {
     "name": "stdout",
     "output_type": "stream",
     "text": [
      "47\n",
      "51\n"
     ]
    }
   ],
   "source": [
    "printLevel(root, 5)"
   ]
  },
  {
   "cell_type": "code",
   "execution_count": 226,
   "metadata": {},
   "outputs": [],
   "source": [
    "def BFS(root):\n",
    "    height = treeHeight(root)\n",
    "    stateMap = {}"
   ]
  },
  {
   "cell_type": "code",
   "execution_count": 258,
   "metadata": {},
   "outputs": [],
   "source": [
    "def cousinsOrNot(root, first, second):\n",
    "    path1 = tracePath(root, first)\n",
    "    path2 = tracePath(root, second)\n",
    "    "
   ]
  },
  {
   "cell_type": "code",
   "execution_count": 297,
   "metadata": {},
   "outputs": [],
   "source": [
    "def tracePath(root, value, q):\n",
    "    \n",
    "    if(root is None):\n",
    "        return False\n",
    "    \n",
    "    q.append(root.val)\n",
    "    \n",
    "    if(root.val == value):\n",
    "        return True\n",
    "    \n",
    "#     if(root.left):\n",
    "#         q.append(root.val)\n",
    "#         print(q)\n",
    "#         tracePath(root.left, value, q)\n",
    "#     if(root.right):\n",
    "#         q.append(root.val)\n",
    "#         print(q)\n",
    "#         tracePath(root.right, value, q)\n",
    "\n",
    "    if(tracePath(root.left, value, q) or tracePath(root.right, value, q)):\n",
    "        return True\n",
    "    \n",
    "    q = []\n",
    "    return False"
   ]
  },
  {
   "cell_type": "code",
   "execution_count": 298,
   "metadata": {},
   "outputs": [],
   "source": [
    "def tracePathCaller(root, value):\n",
    "    q = []\n",
    "    path = tracePath(root, value, q)\n",
    "    print(q)"
   ]
  },
  {
   "cell_type": "code",
   "execution_count": 299,
   "metadata": {},
   "outputs": [
    {
     "name": "stdout",
     "output_type": "stream",
     "text": [
      "[20, 10, 5, 2, 30, 35]\n"
     ]
    }
   ],
   "source": [
    "tracePathCaller(root, 35)"
   ]
  },
  {
   "cell_type": "code",
   "execution_count": 50,
   "metadata": {},
   "outputs": [
    {
     "name": "stdout",
     "output_type": "stream",
     "text": [
      "2\n",
      "5\n",
      "10\n",
      "20\n",
      "30\n"
     ]
    }
   ],
   "source": [
    "inOrder(root)"
   ]
  },
  {
   "cell_type": "code",
   "execution_count": 59,
   "metadata": {},
   "outputs": [],
   "source": [
    "def turnLL(root):\n",
    "    height = treeHeight(root)\n",
    "    for i in range(1, height):\n",
    "        joinLevel(root, i)"
   ]
  },
  {
   "cell_type": "code",
   "execution_count": 60,
   "metadata": {},
   "outputs": [],
   "source": [
    "def joinLevel(root, level):\n",
    "    if root is None:\n",
    "        return 0\n",
    "    if level == 1:\n",
    "        print(root.val)\n",
    "    else:\n",
    "        joinLevel(root.left, level-1)\n",
    "        joinLevel(root.right, level-1)"
   ]
  },
  {
   "cell_type": "code",
   "execution_count": 62,
   "metadata": {},
   "outputs": [
    {
     "name": "stdout",
     "output_type": "stream",
     "text": [
      "20\n",
      "10\n",
      "30\n",
      "5\n"
     ]
    }
   ],
   "source": [
    "turnLL(root)"
   ]
  },
  {
   "cell_type": "code",
   "execution_count": 67,
   "metadata": {},
   "outputs": [],
   "source": [
    "def printList(root):\n",
    "    curr = root\n",
    "    while(curr is not None):\n",
    "        print(curr.val, end=\"->\")\n",
    "        curr = curr.right\n",
    "    print(\"Null\")"
   ]
  },
  {
   "cell_type": "code",
   "execution_count": 68,
   "metadata": {},
   "outputs": [
    {
     "name": "stdout",
     "output_type": "stream",
     "text": [
      "20->30->Null\n"
     ]
    }
   ],
   "source": [
    "printList(root)"
   ]
  },
  {
   "cell_type": "code",
   "execution_count": null,
   "metadata": {},
   "outputs": [],
   "source": []
  }
 ],
 "metadata": {
  "kernelspec": {
   "display_name": "Python 3",
   "language": "python",
   "name": "python3"
  },
  "language_info": {
   "codemirror_mode": {
    "name": "ipython",
    "version": 3
   },
   "file_extension": ".py",
   "mimetype": "text/x-python",
   "name": "python",
   "nbconvert_exporter": "python",
   "pygments_lexer": "ipython3",
   "version": "3.6.5"
  }
 },
 "nbformat": 4,
 "nbformat_minor": 2
}
