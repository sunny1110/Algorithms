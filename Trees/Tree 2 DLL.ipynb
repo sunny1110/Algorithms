{
 "cells": [
  {
   "cell_type": "code",
   "execution_count": 1,
   "metadata": {},
   "outputs": [],
   "source": [
    "class Node: \n",
    "      \n",
    "    # Constructor to create a new node \n",
    "    def __init__(self, data): \n",
    "        self.data = data \n",
    "        self.left = None\n",
    "        self.right = None"
   ]
  },
  {
   "cell_type": "code",
   "execution_count": 24,
   "metadata": {},
   "outputs": [],
   "source": [
    "def leafList(root):\n",
    "    if root is None:\n",
    "        return None\n",
    "    \n",
    "    if root.left is None and root.right is None:\n",
    "        \n",
    "        root.right = leafList.head\n",
    "        \n",
    "        if(leafList.head is not None):\n",
    "            leafList.head.left = root\n",
    "\n",
    "        leafList.head = root\n",
    "        \n",
    "        return None\n",
    "    \n",
    "    root.left = leafList(root.left)\n",
    "    root.right =leafList(root.right)\n",
    "    \n",
    "    return root"
   ]
  },
  {
   "cell_type": "code",
   "execution_count": 25,
   "metadata": {},
   "outputs": [],
   "source": [
    "def printInorder(root): \n",
    "    if root is not None: \n",
    "        printInorder(root.left) \n",
    "        print(root.data)\n",
    "        printInorder(root.right) \n",
    "  \n",
    "  \n",
    "def printList(head): \n",
    "    while(head): \n",
    "        if head.data is not None: \n",
    "            print(head.data)\n",
    "        head = head.right "
   ]
  },
  {
   "cell_type": "code",
   "execution_count": 37,
   "metadata": {},
   "outputs": [],
   "source": [
    "leafList.head = Node(None) \n",
    "root = Node(1) \n",
    "root.left = Node(2) \n",
    "root.right = Node(3) \n",
    "root.left.left = Node(4) \n",
    "root.left.right = Node(5) \n",
    "root.right.right = Node(6) \n",
    "root.left.left.left = Node(7) \n",
    "root.left.left.right = Node(8) \n",
    "root.right.right.left = Node(9) \n",
    "root.right.right.right = Node(10) "
   ]
  },
  {
   "cell_type": "code",
   "execution_count": 38,
   "metadata": {},
   "outputs": [
    {
     "name": "stdout",
     "output_type": "stream",
     "text": [
      "7\n",
      "4\n",
      "8\n",
      "2\n",
      "5\n",
      "1\n",
      "3\n",
      "9\n",
      "6\n",
      "10\n"
     ]
    }
   ],
   "source": [
    "printInorder(root)"
   ]
  },
  {
   "cell_type": "code",
   "execution_count": 28,
   "metadata": {},
   "outputs": [
    {
     "data": {
      "text/plain": [
       "<__main__.Node at 0x104fd1f28>"
      ]
     },
     "execution_count": 28,
     "metadata": {},
     "output_type": "execute_result"
    }
   ],
   "source": [
    "root.left"
   ]
  },
  {
   "cell_type": "code",
   "execution_count": 29,
   "metadata": {},
   "outputs": [
    {
     "name": "stdout",
     "output_type": "stream",
     "text": [
      "10\n",
      "9\n",
      "5\n",
      "8\n",
      "7\n"
     ]
    }
   ],
   "source": [
    "printList(leafList.head) \n"
   ]
  },
  {
   "cell_type": "code",
   "execution_count": null,
   "metadata": {},
   "outputs": [],
   "source": []
  }
 ],
 "metadata": {
  "kernelspec": {
   "display_name": "Python 3",
   "language": "python",
   "name": "python3"
  },
  "language_info": {
   "codemirror_mode": {
    "name": "ipython",
    "version": 3
   },
   "file_extension": ".py",
   "mimetype": "text/x-python",
   "name": "python",
   "nbconvert_exporter": "python",
   "pygments_lexer": "ipython3",
   "version": "3.6.5"
  }
 },
 "nbformat": 4,
 "nbformat_minor": 2
}
