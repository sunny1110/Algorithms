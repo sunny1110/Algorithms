{
 "cells": [
  {
   "cell_type": "code",
   "execution_count": 151,
   "metadata": {},
   "outputs": [],
   "source": [
    "class Node:\n",
    "    def __init__(self, value):\n",
    "        \n",
    "        self.left=None\n",
    "        self.right=None\n",
    "        self.value=value\n",
    "        "
   ]
  },
  {
   "cell_type": "code",
   "execution_count": 152,
   "metadata": {},
   "outputs": [],
   "source": [
    "def insertVal(root, value):\n",
    "    if(root.value):\n",
    "        if value<root.value:\n",
    "            if root.left:\n",
    "                insertVal(root.left, value)\n",
    "            else:\n",
    "                root.left = Node(value)\n",
    "        else:\n",
    "            if root.right:\n",
    "                insertVal(root.right, value)\n",
    "            else:\n",
    "                root.right = Node(value)\n",
    "    else:\n",
    "        root.value = Node(value)"
   ]
  },
  {
   "cell_type": "code",
   "execution_count": 153,
   "metadata": {},
   "outputs": [],
   "source": [
    "def printTree(root):\n",
    "    if root.left:\n",
    "        printTree(root.left)\n",
    "    print(root.value)\n",
    "    if root.right:\n",
    "        printTree(root.right)"
   ]
  },
  {
   "cell_type": "code",
   "execution_count": 154,
   "metadata": {},
   "outputs": [],
   "source": [
    "root = Node(1)"
   ]
  },
  {
   "cell_type": "code",
   "execution_count": 155,
   "metadata": {},
   "outputs": [],
   "source": [
    "insertVal(root, 2)\n",
    "insertVal(root, 3)\n",
    "insertVal(root, 4)\n",
    "insertVal(root, 5)"
   ]
  },
  {
   "cell_type": "code",
   "execution_count": 156,
   "metadata": {},
   "outputs": [],
   "source": [
    "def inOrder(root):\n",
    "    if(root):\n",
    "        if root.left:\n",
    "            inOrder(root.left)\n",
    "        print(root.value)\n",
    "        if root.right:\n",
    "            inOrder(root.right)\n",
    "\n",
    "def preOrder(root):\n",
    "    if(root):\n",
    "        print(root.value)\n",
    "        if(root.left):\n",
    "            preOrder(root.left)\n",
    "        if(root.right):\n",
    "            preOrder(root.right)\n",
    "        \n",
    "def postOrder(root):\n",
    "    if(root):\n",
    "        if(root.left):\n",
    "            postOrder(root.left)\n",
    "        if(root.right):\n",
    "            postOrder(root.right)\n",
    "        print(root.value)"
   ]
  },
  {
   "cell_type": "code",
   "execution_count": 157,
   "metadata": {},
   "outputs": [
    {
     "name": "stdout",
     "output_type": "stream",
     "text": [
      "1\n",
      "2\n",
      "3\n",
      "4\n",
      "5\n"
     ]
    }
   ],
   "source": [
    "preOrder(root)"
   ]
  },
  {
   "cell_type": "code",
   "execution_count": 158,
   "metadata": {},
   "outputs": [
    {
     "name": "stdout",
     "output_type": "stream",
     "text": [
      "5\n",
      "4\n",
      "3\n",
      "2\n",
      "1\n"
     ]
    }
   ],
   "source": [
    "postOrder(root)"
   ]
  },
  {
   "cell_type": "code",
   "execution_count": 159,
   "metadata": {},
   "outputs": [
    {
     "name": "stdout",
     "output_type": "stream",
     "text": [
      "1\n",
      "2\n",
      "3\n",
      "4\n",
      "5\n"
     ]
    }
   ],
   "source": [
    "inOrder(root)"
   ]
  },
  {
   "cell_type": "code",
   "execution_count": 160,
   "metadata": {},
   "outputs": [],
   "source": [
    "def printInorder(root): \n",
    "  \n",
    "    if root: \n",
    "  \n",
    "        # First recur on left child \n",
    "        printInorder(root.left) \n",
    "  \n",
    "        # then print the data of node \n",
    "        print(root.value), \n",
    "  \n",
    "        # now recur on right child \n",
    "        printInorder(root.right) \n",
    "  "
   ]
  },
  {
   "cell_type": "code",
   "execution_count": 161,
   "metadata": {},
   "outputs": [
    {
     "name": "stdout",
     "output_type": "stream",
     "text": [
      "1\n",
      "2\n",
      "3\n",
      "4\n",
      "5\n"
     ]
    }
   ],
   "source": [
    "printInorder(root)"
   ]
  },
  {
   "cell_type": "code",
   "execution_count": 1,
   "metadata": {},
   "outputs": [],
   "source": [
    "def leftViewUtil(root, level, max_level):\n",
    "    if root is None:\n",
    "        return\n",
    "    if(max_level<level):\n",
    "        print(root.value)\n",
    "        max_level = level\n",
    "    \n",
    "    leftViewUtil(root.left, level, max_level)\n",
    "    leftViewUtil(root.right, level, max_level)\n",
    "    "
   ]
  },
  {
   "cell_type": "code",
   "execution_count": 2,
   "metadata": {},
   "outputs": [],
   "source": [
    "def leftView(root):\n",
    "    if(root is None):\n",
    "        return\n",
    "    leftViewUtil(root, 1, 0)"
   ]
  },
  {
   "cell_type": "code",
   "execution_count": 1,
   "metadata": {},
   "outputs": [],
   "source": [
    "x = []"
   ]
  },
  {
   "cell_type": "code",
   "execution_count": null,
   "metadata": {},
   "outputs": [],
   "source": []
  }
 ],
 "metadata": {
  "kernelspec": {
   "display_name": "Python 3",
   "language": "python",
   "name": "python3"
  },
  "language_info": {
   "codemirror_mode": {
    "name": "ipython",
    "version": 3
   },
   "file_extension": ".py",
   "mimetype": "text/x-python",
   "name": "python",
   "nbconvert_exporter": "python",
   "pygments_lexer": "ipython3",
   "version": "3.6.5"
  }
 },
 "nbformat": 4,
 "nbformat_minor": 2
}
