{
 "cells": [
  {
   "cell_type": "code",
   "execution_count": 1,
   "metadata": {},
   "outputs": [],
   "source": [
    "class Node:\n",
    "    def __init__(self, val):\n",
    "        self.left = None\n",
    "        self.right = None\n",
    "        self.val = val"
   ]
  },
  {
   "cell_type": "code",
   "execution_count": 2,
   "metadata": {},
   "outputs": [],
   "source": [
    "def insert(self, val):\n",
    "    if(self.val):\n",
    "        if(val<self.val):\n",
    "            if(self.left):\n",
    "                print(val)\n",
    "                print(\"<\")\n",
    "                print(self.val)\n",
    "                print(\"Moving left\")\n",
    "                insert(self.left, val)\n",
    "            else:\n",
    "                print(\"Adding \")\n",
    "                print(val)\n",
    "                print(\"to the left of \")\n",
    "                print(self.val)\n",
    "                self.left = Node(val)\n",
    "        else:\n",
    "            if(self.right):\n",
    "                print(val)\n",
    "                print(\">\")\n",
    "                print(self.val)\n",
    "                print(\"Moving right\")\n",
    "                print(val)\n",
    "                print(\">\")\n",
    "                print(self.val)\n",
    "                insert(self.right, val)\n",
    "            else:\n",
    "                print(\"Adding \")\n",
    "                print(val)\n",
    "                print(\"to the right of \")\n",
    "                print(self.val)\n",
    "                self.right = Node(val)\n",
    "    else:\n",
    "        self.val = val"
   ]
  },
  {
   "cell_type": "code",
   "execution_count": 3,
   "metadata": {},
   "outputs": [],
   "source": [
    "def inOrder(self):\n",
    "    if(self):\n",
    "        if(self.left):\n",
    "            inOrder(self.left)\n",
    "        print(self.val)\n",
    "        if(self.right):\n",
    "            inOrder(self.right)"
   ]
  },
  {
   "cell_type": "code",
   "execution_count": 4,
   "metadata": {},
   "outputs": [],
   "source": [
    "root = Node(15)"
   ]
  },
  {
   "cell_type": "code",
   "execution_count": 5,
   "metadata": {},
   "outputs": [
    {
     "name": "stdout",
     "output_type": "stream",
     "text": [
      "Adding \n",
      "12\n",
      "to the left of \n",
      "15\n",
      "Adding \n",
      "18\n",
      "to the right of \n",
      "15\n"
     ]
    }
   ],
   "source": [
    "insert(root, 12)\n",
    "insert(root, 18)"
   ]
  },
  {
   "cell_type": "code",
   "execution_count": 6,
   "metadata": {},
   "outputs": [
    {
     "name": "stdout",
     "output_type": "stream",
     "text": [
      "6\n",
      "<\n",
      "15\n",
      "Moving left\n",
      "Adding \n",
      "6\n",
      "to the left of \n",
      "12\n"
     ]
    }
   ],
   "source": [
    "insert(root, 6)"
   ]
  },
  {
   "cell_type": "code",
   "execution_count": 7,
   "metadata": {},
   "outputs": [
    {
     "name": "stdout",
     "output_type": "stream",
     "text": [
      "13\n",
      "<\n",
      "15\n",
      "Moving left\n",
      "Adding \n",
      "13\n",
      "to the right of \n",
      "12\n"
     ]
    }
   ],
   "source": [
    "insert(root, 13)"
   ]
  },
  {
   "cell_type": "code",
   "execution_count": 8,
   "metadata": {},
   "outputs": [
    {
     "name": "stdout",
     "output_type": "stream",
     "text": [
      "6\n",
      "12\n",
      "13\n",
      "15\n",
      "18\n"
     ]
    }
   ],
   "source": [
    "inOrder(root)"
   ]
  },
  {
   "cell_type": "code",
   "execution_count": 9,
   "metadata": {},
   "outputs": [
    {
     "name": "stdout",
     "output_type": "stream",
     "text": [
      "24\n",
      ">\n",
      "15\n",
      "Moving right\n",
      "24\n",
      ">\n",
      "15\n",
      "Adding \n",
      "24\n",
      "to the right of \n",
      "18\n"
     ]
    }
   ],
   "source": [
    "insert(root, 24)"
   ]
  },
  {
   "cell_type": "code",
   "execution_count": 10,
   "metadata": {},
   "outputs": [
    {
     "name": "stdout",
     "output_type": "stream",
     "text": [
      "6\n",
      "12\n",
      "13\n",
      "15\n",
      "18\n",
      "24\n"
     ]
    }
   ],
   "source": [
    "inOrder(root)"
   ]
  },
  {
   "cell_type": "code",
   "execution_count": 11,
   "metadata": {},
   "outputs": [
    {
     "name": "stdout",
     "output_type": "stream",
     "text": [
      "17\n",
      ">\n",
      "15\n",
      "Moving right\n",
      "17\n",
      ">\n",
      "15\n",
      "Adding \n",
      "17\n",
      "to the left of \n",
      "18\n"
     ]
    }
   ],
   "source": [
    "insert(root, 17)"
   ]
  },
  {
   "cell_type": "code",
   "execution_count": 12,
   "metadata": {},
   "outputs": [
    {
     "name": "stdout",
     "output_type": "stream",
     "text": [
      "6\n",
      "12\n",
      "13\n",
      "15\n",
      "17\n",
      "18\n",
      "24\n"
     ]
    }
   ],
   "source": [
    "inOrder(root)"
   ]
  },
  {
   "cell_type": "code",
   "execution_count": 13,
   "metadata": {},
   "outputs": [
    {
     "name": "stdout",
     "output_type": "stream",
     "text": [
      "1\n",
      "<\n",
      "15\n",
      "Moving left\n",
      "1\n",
      "<\n",
      "12\n",
      "Moving left\n",
      "Adding \n",
      "1\n",
      "to the left of \n",
      "6\n"
     ]
    }
   ],
   "source": [
    "insert(root, 1)"
   ]
  },
  {
   "cell_type": "code",
   "execution_count": 14,
   "metadata": {},
   "outputs": [
    {
     "name": "stdout",
     "output_type": "stream",
     "text": [
      "1\n",
      "6\n",
      "12\n",
      "13\n",
      "15\n",
      "17\n",
      "18\n",
      "24\n"
     ]
    }
   ],
   "source": [
    "inOrder(root)"
   ]
  },
  {
   "cell_type": "code",
   "execution_count": 15,
   "metadata": {},
   "outputs": [],
   "source": [
    "def postOrder(self):\n",
    "    if(self):\n",
    "        if(self.left):\n",
    "            postOrder(self.left)\n",
    "        if(self.right):\n",
    "            postOrder(self.right)\n",
    "        print(self.val)"
   ]
  },
  {
   "cell_type": "code",
   "execution_count": 16,
   "metadata": {},
   "outputs": [
    {
     "name": "stdout",
     "output_type": "stream",
     "text": [
      "1\n",
      "6\n",
      "13\n",
      "12\n",
      "17\n",
      "24\n",
      "18\n",
      "15\n"
     ]
    }
   ],
   "source": [
    "postOrder(root)"
   ]
  },
  {
   "cell_type": "code",
   "execution_count": 17,
   "metadata": {},
   "outputs": [],
   "source": [
    "def preOrder(self):\n",
    "    if(self.val):\n",
    "        print(self.val)\n",
    "        if(self.left):\n",
    "            preOrder(self.left)\n",
    "        if(self.right):\n",
    "            preOrder(self.right)"
   ]
  },
  {
   "cell_type": "code",
   "execution_count": 18,
   "metadata": {},
   "outputs": [
    {
     "name": "stdout",
     "output_type": "stream",
     "text": [
      "15\n",
      "12\n",
      "6\n",
      "1\n",
      "13\n",
      "18\n",
      "17\n",
      "24\n"
     ]
    }
   ],
   "source": [
    "preOrder(root)"
   ]
  },
  {
   "cell_type": "code",
   "execution_count": 19,
   "metadata": {},
   "outputs": [],
   "source": [
    "straight = Node(1)"
   ]
  },
  {
   "cell_type": "code",
   "execution_count": 20,
   "metadata": {},
   "outputs": [
    {
     "name": "stdout",
     "output_type": "stream",
     "text": [
      "Adding \n",
      "2\n",
      "to the right of \n",
      "1\n",
      "3\n",
      ">\n",
      "1\n",
      "Moving right\n",
      "3\n",
      ">\n",
      "1\n",
      "Adding \n",
      "3\n",
      "to the right of \n",
      "2\n",
      "4\n",
      ">\n",
      "1\n",
      "Moving right\n",
      "4\n",
      ">\n",
      "1\n",
      "4\n",
      ">\n",
      "2\n",
      "Moving right\n",
      "4\n",
      ">\n",
      "2\n",
      "Adding \n",
      "4\n",
      "to the right of \n",
      "3\n",
      "5\n",
      ">\n",
      "1\n",
      "Moving right\n",
      "5\n",
      ">\n",
      "1\n",
      "5\n",
      ">\n",
      "2\n",
      "Moving right\n",
      "5\n",
      ">\n",
      "2\n",
      "5\n",
      ">\n",
      "3\n",
      "Moving right\n",
      "5\n",
      ">\n",
      "3\n",
      "Adding \n",
      "5\n",
      "to the right of \n",
      "4\n"
     ]
    }
   ],
   "source": [
    "insert(straight, 2)\n",
    "insert(straight, 3)\n",
    "insert(straight, 4)\n",
    "insert(straight, 5)"
   ]
  },
  {
   "cell_type": "code",
   "execution_count": 21,
   "metadata": {},
   "outputs": [
    {
     "name": "stdout",
     "output_type": "stream",
     "text": [
      "1\n",
      "2\n",
      "3\n",
      "4\n",
      "5\n"
     ]
    }
   ],
   "source": [
    "inOrder(straight)"
   ]
  },
  {
   "cell_type": "code",
   "execution_count": 22,
   "metadata": {},
   "outputs": [],
   "source": [
    "r = Node(25)"
   ]
  },
  {
   "cell_type": "code",
   "execution_count": 23,
   "metadata": {},
   "outputs": [
    {
     "name": "stdout",
     "output_type": "stream",
     "text": [
      "Adding \n",
      "15\n",
      "to the left of \n",
      "25\n"
     ]
    }
   ],
   "source": [
    "insert(r, 15)"
   ]
  },
  {
   "cell_type": "code",
   "execution_count": 24,
   "metadata": {},
   "outputs": [
    {
     "name": "stdout",
     "output_type": "stream",
     "text": [
      "Adding \n",
      "50\n",
      "to the right of \n",
      "25\n",
      "10\n",
      "<\n",
      "25\n",
      "Moving left\n",
      "Adding \n",
      "10\n",
      "to the left of \n",
      "15\n",
      "4\n",
      "<\n",
      "25\n",
      "Moving left\n",
      "4\n",
      "<\n",
      "15\n",
      "Moving left\n",
      "Adding \n",
      "4\n",
      "to the left of \n",
      "10\n",
      "12\n",
      "<\n",
      "25\n",
      "Moving left\n",
      "12\n",
      "<\n",
      "15\n",
      "Moving left\n",
      "Adding \n",
      "12\n",
      "to the right of \n",
      "10\n",
      "22\n",
      "<\n",
      "25\n",
      "Moving left\n",
      "Adding \n",
      "22\n",
      "to the right of \n",
      "15\n",
      "18\n",
      "<\n",
      "25\n",
      "Moving left\n",
      "18\n",
      ">\n",
      "15\n",
      "Moving right\n",
      "18\n",
      ">\n",
      "15\n",
      "Adding \n",
      "18\n",
      "to the left of \n",
      "22\n",
      "24\n",
      "<\n",
      "25\n",
      "Moving left\n",
      "24\n",
      ">\n",
      "15\n",
      "Moving right\n",
      "24\n",
      ">\n",
      "15\n",
      "Adding \n",
      "24\n",
      "to the right of \n",
      "22\n",
      "35\n",
      ">\n",
      "25\n",
      "Moving right\n",
      "35\n",
      ">\n",
      "25\n",
      "Adding \n",
      "35\n",
      "to the left of \n",
      "50\n",
      "31\n",
      ">\n",
      "25\n",
      "Moving right\n",
      "31\n",
      ">\n",
      "25\n",
      "31\n",
      "<\n",
      "50\n",
      "Moving left\n",
      "Adding \n",
      "31\n",
      "to the left of \n",
      "35\n",
      "44\n",
      ">\n",
      "25\n",
      "Moving right\n",
      "44\n",
      ">\n",
      "25\n",
      "44\n",
      "<\n",
      "50\n",
      "Moving left\n",
      "Adding \n",
      "44\n",
      "to the right of \n",
      "35\n",
      "70\n",
      ">\n",
      "25\n",
      "Moving right\n",
      "70\n",
      ">\n",
      "25\n",
      "Adding \n",
      "70\n",
      "to the right of \n",
      "50\n",
      "66\n",
      ">\n",
      "25\n",
      "Moving right\n",
      "66\n",
      ">\n",
      "25\n",
      "66\n",
      ">\n",
      "50\n",
      "Moving right\n",
      "66\n",
      ">\n",
      "50\n",
      "Adding \n",
      "66\n",
      "to the left of \n",
      "70\n",
      "90\n",
      ">\n",
      "25\n",
      "Moving right\n",
      "90\n",
      ">\n",
      "25\n",
      "90\n",
      ">\n",
      "50\n",
      "Moving right\n",
      "90\n",
      ">\n",
      "50\n",
      "Adding \n",
      "90\n",
      "to the right of \n",
      "70\n"
     ]
    }
   ],
   "source": [
    "insert(r, 50)\n",
    "insert(r, 10)\n",
    "insert(r, 4)\n",
    "insert(r, 12)\n",
    "insert(r, 22)\n",
    "insert(r, 18)\n",
    "insert(r, 24)\n",
    "insert(r, 35)\n",
    "insert(r, 31)\n",
    "insert(r, 44)\n",
    "insert(r, 70)\n",
    "insert(r, 66)\n",
    "insert(r, 90)"
   ]
  },
  {
   "cell_type": "code",
   "execution_count": 25,
   "metadata": {},
   "outputs": [
    {
     "name": "stdout",
     "output_type": "stream",
     "text": [
      "4\n",
      "10\n",
      "12\n",
      "15\n",
      "18\n",
      "22\n",
      "24\n",
      "25\n",
      "31\n",
      "35\n",
      "44\n",
      "50\n",
      "66\n",
      "70\n",
      "90\n"
     ]
    }
   ],
   "source": [
    "inOrder(r)"
   ]
  },
  {
   "cell_type": "code",
   "execution_count": 26,
   "metadata": {},
   "outputs": [
    {
     "name": "stdout",
     "output_type": "stream",
     "text": [
      "25\n",
      "15\n",
      "10\n",
      "4\n",
      "12\n",
      "22\n",
      "18\n",
      "24\n",
      "50\n",
      "35\n",
      "31\n",
      "44\n",
      "70\n",
      "66\n",
      "90\n"
     ]
    }
   ],
   "source": [
    "preOrder(r)"
   ]
  },
  {
   "cell_type": "code",
   "execution_count": 27,
   "metadata": {},
   "outputs": [],
   "source": [
    "def searchTree(root, key):\n",
    "    if(root):\n",
    "        if(root.val==key):\n",
    "            print(\"Found it!\")\n",
    "            return\n",
    "        if(key<root.val):\n",
    "            searchTree(root.left, key)\n",
    "        else:\n",
    "            searchTree(root.right, key)\n",
    "    else:\n",
    "        print(\"Not found! :(\")\n",
    "        return"
   ]
  },
  {
   "cell_type": "code",
   "execution_count": 28,
   "metadata": {},
   "outputs": [
    {
     "name": "stdout",
     "output_type": "stream",
     "text": [
      "Not found! :(\n"
     ]
    }
   ],
   "source": [
    "searchTree(r, 17)"
   ]
  },
  {
   "cell_type": "code",
   "execution_count": 29,
   "metadata": {},
   "outputs": [],
   "source": [
    "def treeHeight(root):\n",
    "    if(root is None):\n",
    "        return 0\n",
    "    else:\n",
    "        lHeight = treeHeight(root.left)\n",
    "        rHeight = treeHeight(root.right)\n",
    "        if(lHeight>rHeight):\n",
    "            return lHeight+1\n",
    "        else:\n",
    "            return rHeight+1\n",
    "        "
   ]
  },
  {
   "cell_type": "code",
   "execution_count": 30,
   "metadata": {},
   "outputs": [
    {
     "name": "stdout",
     "output_type": "stream",
     "text": [
      "4\n"
     ]
    }
   ],
   "source": [
    "print(treeHeight(r))"
   ]
  },
  {
   "cell_type": "code",
   "execution_count": 31,
   "metadata": {},
   "outputs": [],
   "source": [
    "sRoot = Node(3)"
   ]
  },
  {
   "cell_type": "code",
   "execution_count": 32,
   "metadata": {},
   "outputs": [
    {
     "name": "stdout",
     "output_type": "stream",
     "text": [
      "1\n"
     ]
    }
   ],
   "source": [
    "print(treeHeight(sRoot))"
   ]
  },
  {
   "cell_type": "code",
   "execution_count": 33,
   "metadata": {},
   "outputs": [
    {
     "name": "stdout",
     "output_type": "stream",
     "text": [
      "Adding \n",
      "1\n",
      "to the left of \n",
      "3\n"
     ]
    }
   ],
   "source": [
    "insert(sRoot,1)"
   ]
  },
  {
   "cell_type": "code",
   "execution_count": 34,
   "metadata": {},
   "outputs": [],
   "source": [
    "def BFS(root, level):\n",
    "    if root is None:\n",
    "        return 0\n",
    "    if level == 1:\n",
    "        print(root.val)\n",
    "    elif level>1:\n",
    "        BFS(root.left, level-1)\n",
    "        BFS(root.right, level-1)"
   ]
  },
  {
   "cell_type": "code",
   "execution_count": 35,
   "metadata": {},
   "outputs": [
    {
     "name": "stdout",
     "output_type": "stream",
     "text": [
      "6\n",
      "13\n",
      "17\n",
      "24\n"
     ]
    }
   ],
   "source": [
    "BFS(root, 3)"
   ]
  },
  {
   "cell_type": "code",
   "execution_count": 36,
   "metadata": {},
   "outputs": [],
   "source": [
    "def printWholeTree(root, level=1):\n",
    "    if(level<treeHeight(root)):\n",
    "        BFS(root, level)\n",
    "        printWholeTree(root, level+1)\n",
    "    else:\n",
    "        return\n",
    "        "
   ]
  },
  {
   "cell_type": "code",
   "execution_count": 49,
   "metadata": {},
   "outputs": [
    {
     "name": "stdout",
     "output_type": "stream",
     "text": [
      "15\n",
      "12\n",
      "18\n",
      "6\n",
      "13\n",
      "17\n",
      "24\n"
     ]
    }
   ],
   "source": [
    "printWholeTree(root)"
   ]
  },
  {
   "cell_type": "code",
   "execution_count": 56,
   "metadata": {},
   "outputs": [],
   "source": [
    "def rightMostNode(root):\n",
    "    if(root):\n",
    "        if(root.right is not None):\n",
    "            print(root.right.val)\n",
    "        else:\n",
    "            print(root.left.val)\n",
    "    else:\n",
    "        return None"
   ]
  },
  {
   "cell_type": "code",
   "execution_count": 57,
   "metadata": {},
   "outputs": [
    {
     "name": "stdout",
     "output_type": "stream",
     "text": [
      "18\n"
     ]
    }
   ],
   "source": [
    "rightMostNode(root)"
   ]
  },
  {
   "cell_type": "code",
   "execution_count": 58,
   "metadata": {},
   "outputs": [],
   "source": [
    "view = Node(18)"
   ]
  },
  {
   "cell_type": "code",
   "execution_count": 59,
   "metadata": {},
   "outputs": [
    {
     "name": "stdout",
     "output_type": "stream",
     "text": [
      "Adding \n",
      "12\n",
      "to the left of \n",
      "18\n"
     ]
    }
   ],
   "source": [
    "insert(view, 12)"
   ]
  },
  {
   "cell_type": "code",
   "execution_count": 61,
   "metadata": {},
   "outputs": [
    {
     "name": "stdout",
     "output_type": "stream",
     "text": [
      "Adding \n",
      "21\n",
      "to the right of \n",
      "18\n"
     ]
    }
   ],
   "source": [
    "insert(view, 21)"
   ]
  },
  {
   "cell_type": "code",
   "execution_count": 62,
   "metadata": {},
   "outputs": [
    {
     "name": "stdout",
     "output_type": "stream",
     "text": [
      "21\n"
     ]
    }
   ],
   "source": [
    "rightMostNode(view)"
   ]
  },
  {
   "cell_type": "code",
   "execution_count": 66,
   "metadata": {},
   "outputs": [],
   "source": [
    "BFS(view, 3)    "
   ]
  },
  {
   "cell_type": "code",
   "execution_count": 67,
   "metadata": {},
   "outputs": [],
   "source": [
    "def rightView(root, level):\n",
    "    if root is None:\n",
    "        return 0\n",
    "    if level == 1:\n",
    "        print(root.val)\n",
    "    elif level>1:\n",
    "        BFS(root.right, level-1)"
   ]
  },
  {
   "cell_type": "code",
   "execution_count": 74,
   "metadata": {},
   "outputs": [
    {
     "name": "stdout",
     "output_type": "stream",
     "text": [
      "19\n",
      "31\n"
     ]
    }
   ],
   "source": [
    "rightView(view, 3)"
   ]
  },
  {
   "cell_type": "code",
   "execution_count": 72,
   "metadata": {},
   "outputs": [
    {
     "name": "stdout",
     "output_type": "stream",
     "text": [
      "31\n",
      ">\n",
      "18\n",
      "Moving right\n",
      "31\n",
      ">\n",
      "18\n",
      "Adding \n",
      "31\n",
      "to the right of \n",
      "21\n"
     ]
    }
   ],
   "source": [
    "insert(view, 31)"
   ]
  },
  {
   "cell_type": "code",
   "execution_count": null,
   "metadata": {},
   "outputs": [],
   "source": []
  }
 ],
 "metadata": {
  "kernelspec": {
   "display_name": "Python 3",
   "language": "python",
   "name": "python3"
  },
  "language_info": {
   "codemirror_mode": {
    "name": "ipython",
    "version": 3
   },
   "file_extension": ".py",
   "mimetype": "text/x-python",
   "name": "python",
   "nbconvert_exporter": "python",
   "pygments_lexer": "ipython3",
   "version": "3.6.5"
  }
 },
 "nbformat": 4,
 "nbformat_minor": 2
}
