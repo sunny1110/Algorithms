{
 "cells": [
  {
   "cell_type": "code",
   "execution_count": 6,
   "metadata": {},
   "outputs": [],
   "source": [
    "class Node: \n",
    "      \n",
    "    # Constructor to create a new node \n",
    "    def __init__(self, val): \n",
    "        self.val = val \n",
    "        self.left = None\n",
    "        self.right = None"
   ]
  },
  {
   "cell_type": "code",
   "execution_count": 14,
   "metadata": {},
   "outputs": [],
   "source": [
    "def BSTOrNot(root):\n",
    "    maxAllowed =  999999999\n",
    "    minAllowed = -999999999\n",
    "    \n",
    "    if(bstUtil(root, maxAllowed, minAllowed)):\n",
    "        print(\"Yes\")\n",
    "    else:\n",
    "        print(\"No\")"
   ]
  },
  {
   "cell_type": "code",
   "execution_count": 18,
   "metadata": {},
   "outputs": [],
   "source": [
    "def bstUtil(root, maxAllowed, minAllowed):\n",
    "    if root is None:\n",
    "        return True\n",
    "    \n",
    "    elif root.val<=maxAllowed and root.val>=minAllowed:\n",
    "        return(bstUtil(root.left, root.val-1, minAllowed) and bstUtil(root.right, maxAllowed, root.val+1))\n",
    "        \n",
    "    else:\n",
    "        return False"
   ]
  },
  {
   "cell_type": "code",
   "execution_count": 34,
   "metadata": {},
   "outputs": [],
   "source": [
    "root = Node(5)\n",
    "root.right = Node(6)\n",
    "root.left = Node(4)\n",
    "root.right.left = Node(7)"
   ]
  },
  {
   "cell_type": "code",
   "execution_count": 40,
   "metadata": {},
   "outputs": [
    {
     "name": "stdout",
     "output_type": "stream",
     "text": [
      "No\n"
     ]
    }
   ],
   "source": [
    "BSTOrNot(root)"
   ]
  },
  {
   "cell_type": "code",
   "execution_count": 39,
   "metadata": {},
   "outputs": [],
   "source": [
    "root = Node(4) \n",
    "root.left = Node(2) \n",
    "root.right = Node(5) \n",
    "root.left.left = Node(1) \n",
    "root.right.right = Node(3) "
   ]
  },
  {
   "cell_type": "code",
   "execution_count": null,
   "metadata": {},
   "outputs": [],
   "source": []
  }
 ],
 "metadata": {
  "kernelspec": {
   "display_name": "Python 3",
   "language": "python",
   "name": "python3"
  },
  "language_info": {
   "codemirror_mode": {
    "name": "ipython",
    "version": 3
   },
   "file_extension": ".py",
   "mimetype": "text/x-python",
   "name": "python",
   "nbconvert_exporter": "python",
   "pygments_lexer": "ipython3",
   "version": "3.6.5"
  }
 },
 "nbformat": 4,
 "nbformat_minor": 2
}
