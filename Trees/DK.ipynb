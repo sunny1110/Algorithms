{
 "cells": [
  {
   "cell_type": "code",
   "execution_count": 1,
   "metadata": {},
   "outputs": [],
   "source": [
    "class Node:\n",
    "    def __init__(self, val):\n",
    "        self.val = val\n",
    "        self.right = None\n",
    "        self.left = None"
   ]
  },
  {
   "cell_type": "code",
   "execution_count": 8,
   "metadata": {},
   "outputs": [],
   "source": [
    "def inOrder(root):\n",
    "    if root is None:\n",
    "        return\n",
    "    if(root.left):\n",
    "        inOrder(root.left)\n",
    "    print(root.val, end=\" \")\n",
    "    if(root.right):\n",
    "        inOrder(root.right)"
   ]
  },
  {
   "cell_type": "code",
   "execution_count": 6,
   "metadata": {},
   "outputs": [],
   "source": [
    "root = Node(20) \n",
    "root.left = Node(8) \n",
    "root.right = Node(22) \n",
    "root.left.left = Node(4) \n",
    "root.left.right = Node(12) \n",
    "root.left.right.left = Node(10) \n",
    "root.left.right.right = Node(14) \n"
   ]
  },
  {
   "cell_type": "code",
   "execution_count": 9,
   "metadata": {},
   "outputs": [
    {
     "name": "stdout",
     "output_type": "stream",
     "text": [
      "4 8 10 12 14 20 22 "
     ]
    }
   ],
   "source": [
    "inOrder(root)"
   ]
  },
  {
   "cell_type": "code",
   "execution_count": 109,
   "metadata": {},
   "outputs": [],
   "source": [
    "def kFromN(root, n, k):\n",
    "    path2N=[]\n",
    "    findN(root, n, k, path2N)\n",
    "    d = len(path2N)-1\n",
    "#     print(path2N)\n",
    "    for i in range(k):\n",
    "        path = []\n",
    "        e = path2N[d-i-1]\n",
    "#         print(\"Searching for {} for distance {}\".format(e, k-i-1))\n",
    "        findN(root, e, k-i-1, path)\n",
    "#     print(path2N[k-1])\n",
    "        \n",
    "    "
   ]
  },
  {
   "cell_type": "code",
   "execution_count": 110,
   "metadata": {},
   "outputs": [],
   "source": [
    "def findN(root, n, k, path):\n",
    "    if root is None:\n",
    "        return\n",
    "    path.append(root.val)\n",
    "    if(root.val==n):\n",
    "        kDown(root, k)\n",
    "        return True\n",
    "        \n",
    "    if(root.left is not None and findN(root.left, n, k, path) or root.right is not None and findN(root.right, n, k, path)):\n",
    "        return True\n",
    "    \n",
    "    path.pop(len(path)-1)\n",
    "    return False"
   ]
  },
  {
   "cell_type": "code",
   "execution_count": 111,
   "metadata": {},
   "outputs": [],
   "source": [
    "a = []"
   ]
  },
  {
   "cell_type": "code",
   "execution_count": 115,
   "metadata": {},
   "outputs": [
    {
     "name": "stdout",
     "output_type": "stream",
     "text": [
      "10 14 8 22 12 "
     ]
    }
   ],
   "source": [
    "kFromN(root, 12, 3)"
   ]
  },
  {
   "cell_type": "code",
   "execution_count": 43,
   "metadata": {},
   "outputs": [
    {
     "data": {
      "text/plain": [
       "[20, 8, 12, 10]"
      ]
     },
     "execution_count": 43,
     "metadata": {},
     "output_type": "execute_result"
    }
   ],
   "source": [
    "a"
   ]
  },
  {
   "cell_type": "code",
   "execution_count": 101,
   "metadata": {},
   "outputs": [],
   "source": [
    "def kDown(root, k):\n",
    "#     print(\"KD\")\n",
    "    if root is None:\n",
    "        return\n",
    "    if(k==0):\n",
    "        print(root.val, end=\" \")\n",
    "        \n",
    "    kDown(root.left, k-1)\n",
    "    kDown(root.right, k-1)"
   ]
  },
  {
   "cell_type": "code",
   "execution_count": 74,
   "metadata": {},
   "outputs": [
    {
     "name": "stdout",
     "output_type": "stream",
     "text": [
      "1\n",
      "2\n",
      "3\n",
      "4\n"
     ]
    }
   ],
   "source": [
    "for i in range(1, 5):\n",
    "    print(i)"
   ]
  },
  {
   "cell_type": "code",
   "execution_count": 135,
   "metadata": {},
   "outputs": [],
   "source": [
    "def atK(root, n, k):\n",
    "    \n",
    "    if root is None:\n",
    "        return -1\n",
    "    \n",
    "    if root.val==n:\n",
    "        kDown(root, k)\n",
    "        return 0\n",
    "    \n",
    "    \n",
    "    \n",
    "    dl = atK(root.left, n, k)\n",
    "    \n",
    "    if(dl!=-1):\n",
    "        if(dl+1==k):\n",
    "            print(root.val)\n",
    "        else:\n",
    "            atK(root.right, n, k-dl-2)\n",
    "        return dl+1\n",
    "    return -1\n",
    "\n",
    "    dr = atK(root.right, n, k)\n",
    "    \n",
    "    if(dr!=-1):\n",
    "        if(dr+1==k):\n",
    "            print(root.val)\n",
    "        else:\n",
    "            atK(root.left, n, k-dr-2)\n",
    "        return dr+1\n",
    "    return -1"
   ]
  },
  {
   "cell_type": "code",
   "execution_count": 136,
   "metadata": {},
   "outputs": [
    {
     "name": "stdout",
     "output_type": "stream",
     "text": [
      "10 14 "
     ]
    },
    {
     "data": {
      "text/plain": [
       "1"
      ]
     },
     "execution_count": 136,
     "metadata": {},
     "output_type": "execute_result"
    }
   ],
   "source": [
    "atK(root, 8, 2)"
   ]
  },
  {
   "cell_type": "code",
   "execution_count": null,
   "metadata": {},
   "outputs": [],
   "source": []
  }
 ],
 "metadata": {
  "kernelspec": {
   "display_name": "Python 3",
   "language": "python",
   "name": "python3"
  },
  "language_info": {
   "codemirror_mode": {
    "name": "ipython",
    "version": 3
   },
   "file_extension": ".py",
   "mimetype": "text/x-python",
   "name": "python",
   "nbconvert_exporter": "python",
   "pygments_lexer": "ipython3",
   "version": "3.6.5"
  }
 },
 "nbformat": 4,
 "nbformat_minor": 2
}
