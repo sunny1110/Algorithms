{
 "cells": [
  {
   "cell_type": "code",
   "execution_count": 43,
   "metadata": {},
   "outputs": [],
   "source": [
    "def nextGreater(a):\n",
    "    s = []\n",
    "    s.append(a[0])\n",
    "    for i in range(1, len(a)):\n",
    "        if(len(s)>0):\n",
    "#             print(\"a[i] = {} and stackTop = {}\".format(a[i], s[len(s)-1]))\n",
    "            while(len(s)>0 and s[len(s)-1]<a[i]):\n",
    "                print(\"Next Greater of {} is {}\".format(s[len(s)-1], a[i]), end=\"\\n\")\n",
    "                s.pop(len(s)-1)\n",
    "            s.append(a[i])\n",
    "    while(len(s)>0):\n",
    "        x = s.pop(0)\n",
    "        print(\"Next Greater of {} is -1\".format(x), end=\"\\n\")\n",
    "        "
   ]
  },
  {
   "cell_type": "code",
   "execution_count": 31,
   "metadata": {},
   "outputs": [],
   "source": [
    "x = 3\n",
    "y = 4"
   ]
  },
  {
   "cell_type": "code",
   "execution_count": 32,
   "metadata": {},
   "outputs": [
    {
     "name": "stdout",
     "output_type": "stream",
     "text": [
      "y is 3 and x is 4\n"
     ]
    }
   ],
   "source": [
    "print(\"y is {} and x is {}\".format(x, y))"
   ]
  },
  {
   "cell_type": "code",
   "execution_count": 53,
   "metadata": {},
   "outputs": [],
   "source": [
    "a = [4, 12, 5, 25, 23, 4, 31, 2, 18, 25]"
   ]
  },
  {
   "cell_type": "code",
   "execution_count": 54,
   "metadata": {},
   "outputs": [
    {
     "name": "stdout",
     "output_type": "stream",
     "text": [
      "Next Greater of 4 is 12\n",
      "Next Greater of 5 is 25\n",
      "Next Greater of 12 is 25\n",
      "Next Greater of 4 is 31\n",
      "Next Greater of 23 is 31\n",
      "Next Greater of 25 is 31\n",
      "Next Greater of 2 is 18\n",
      "Next Greater of 18 is 25\n",
      "Next Greater of 31 is -1\n",
      "Next Greater of 25 is -1\n"
     ]
    }
   ],
   "source": [
    "nextGreater(a)"
   ]
  },
  {
   "cell_type": "code",
   "execution_count": 55,
   "metadata": {},
   "outputs": [],
   "source": [
    "b = [70, 80, 70, 38, 39, 90]"
   ]
  },
  {
   "cell_type": "code",
   "execution_count": 56,
   "metadata": {},
   "outputs": [
    {
     "name": "stdout",
     "output_type": "stream",
     "text": [
      "Next Greater of 70 is 80\n",
      "Next Greater of 38 is 39\n",
      "Next Greater of 39 is 90\n",
      "Next Greater of 70 is 90\n",
      "Next Greater of 80 is 90\n",
      "Next Greater of 90 is -1\n"
     ]
    }
   ],
   "source": [
    "nextGreater(b)"
   ]
  },
  {
   "cell_type": "code",
   "execution_count": 57,
   "metadata": {},
   "outputs": [],
   "source": [
    "c = [11, 13, 21, 3, 11]"
   ]
  },
  {
   "cell_type": "code",
   "execution_count": 58,
   "metadata": {},
   "outputs": [
    {
     "name": "stdout",
     "output_type": "stream",
     "text": [
      "Next Greater of 11 is 13\n",
      "Next Greater of 13 is 21\n",
      "Next Greater of 3 is 11\n",
      "Next Greater of 21 is -1\n",
      "Next Greater of 11 is -1\n"
     ]
    }
   ],
   "source": [
    "nextGreater(c)"
   ]
  },
  {
   "cell_type": "code",
   "execution_count": 59,
   "metadata": {},
   "outputs": [],
   "source": [
    "d = [13, 7, 16, 12, 14, 15, 19]"
   ]
  },
  {
   "cell_type": "code",
   "execution_count": 60,
   "metadata": {},
   "outputs": [
    {
     "name": "stdout",
     "output_type": "stream",
     "text": [
      "Next Greater of 7 is 16\n",
      "Next Greater of 13 is 16\n",
      "Next Greater of 12 is 14\n",
      "Next Greater of 14 is 15\n",
      "Next Greater of 15 is 19\n",
      "Next Greater of 16 is 19\n",
      "Next Greater of 19 is -1\n"
     ]
    }
   ],
   "source": [
    "nextGreater(d)"
   ]
  },
  {
   "cell_type": "code",
   "execution_count": 61,
   "metadata": {},
   "outputs": [],
   "source": [
    "e = 98, 23, 54, 12, 20, 7, 27"
   ]
  },
  {
   "cell_type": "code",
   "execution_count": 62,
   "metadata": {},
   "outputs": [
    {
     "name": "stdout",
     "output_type": "stream",
     "text": [
      "Next Greater of 23 is 54\n",
      "Next Greater of 12 is 20\n",
      "Next Greater of 7 is 27\n",
      "Next Greater of 20 is 27\n",
      "Next Greater of 98 is -1\n",
      "Next Greater of 54 is -1\n",
      "Next Greater of 27 is -1\n"
     ]
    }
   ],
   "source": [
    "nextGreater(e)"
   ]
  },
  {
   "cell_type": "code",
   "execution_count": null,
   "metadata": {},
   "outputs": [],
   "source": []
  }
 ],
 "metadata": {
  "kernelspec": {
   "display_name": "Python 3",
   "language": "python",
   "name": "python3"
  },
  "language_info": {
   "codemirror_mode": {
    "name": "ipython",
    "version": 3
   },
   "file_extension": ".py",
   "mimetype": "text/x-python",
   "name": "python",
   "nbconvert_exporter": "python",
   "pygments_lexer": "ipython3",
   "version": "3.6.5"
  }
 },
 "nbformat": 4,
 "nbformat_minor": 2
}
