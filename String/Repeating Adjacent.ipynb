{
 "cells": [
  {
   "cell_type": "code",
   "execution_count": 37,
   "metadata": {},
   "outputs": [],
   "source": [
    "def repeatingAdjacent(s):\n",
    "    dups = []\n",
    "    ns = s[0]\n",
    "    for i in range(1, len(s)):\n",
    "#         print(s[i])\n",
    "        if(len(dups)>0):\n",
    "#             print(\"Not Empty\")\n",
    "            if(dups[0]!=ns[len(ns)-1]):\n",
    "                ns=ns+dups.pop(0)\n",
    "        if(ns[len(ns)-1]!=s[i]):\n",
    "            ns = ns + s[i]\n",
    "        else:\n",
    "            dups.append(s[i])\n",
    "    \n",
    "    if(len(dups)==1 and dups[0]!=ns[len(ns)-1]):\n",
    "        return ns+dups[0]\n",
    "    else:\n",
    "        return \"Not Possible\"\n",
    "        \n",
    "    \n",
    "            \n",
    "            \n",
    "        "
   ]
  },
  {
   "cell_type": "code",
   "execution_count": 43,
   "metadata": {},
   "outputs": [
    {
     "data": {
      "text/plain": [
       "'Not Possible'"
      ]
     },
     "execution_count": 43,
     "metadata": {},
     "output_type": "execute_result"
    }
   ],
   "source": [
    "repeatingAdjacent(\"bcc\")"
   ]
  },
  {
   "cell_type": "code",
   "execution_count": null,
   "metadata": {},
   "outputs": [],
   "source": []
  }
 ],
 "metadata": {
  "kernelspec": {
   "display_name": "Python 3",
   "language": "python",
   "name": "python3"
  },
  "language_info": {
   "codemirror_mode": {
    "name": "ipython",
    "version": 3
   },
   "file_extension": ".py",
   "mimetype": "text/x-python",
   "name": "python",
   "nbconvert_exporter": "python",
   "pygments_lexer": "ipython3",
   "version": "3.6.5"
  }
 },
 "nbformat": 4,
 "nbformat_minor": 2
}
