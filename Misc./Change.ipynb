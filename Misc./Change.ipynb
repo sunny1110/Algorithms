{
 "cells": [
  {
   "cell_type": "code",
   "execution_count": 12,
   "metadata": {},
   "outputs": [],
   "source": [
    "def makeChangeUtil(a):\n",
    "    if a==0:\n",
    "        return 0\n",
    "    \n",
    "    if a>=25:\n",
    "        print(\"25\")\n",
    "        return int(a/25)+makeChangeUtil(a%25)\n",
    "    \n",
    "    if a>=10:\n",
    "        print(\"10\")\n",
    "        return int(a/10)+makeChangeUtil(a%10)\n",
    "    \n",
    "    if a>=5:\n",
    "        print(\"5\")\n",
    "        return int(a/5)+makeChangeUtil(a%5)\n",
    "    \n",
    "    else:\n",
    "        print(\"1\")\n",
    "        return a"
   ]
  },
  {
   "cell_type": "code",
   "execution_count": 14,
   "metadata": {},
   "outputs": [
    {
     "name": "stdout",
     "output_type": "stream",
     "text": [
      "25\n",
      "10\n",
      "1\n"
     ]
    },
    {
     "data": {
      "text/plain": [
       "199"
      ]
     },
     "execution_count": 14,
     "metadata": {},
     "output_type": "execute_result"
    }
   ],
   "source": [
    "makeChangeUtil(4912)"
   ]
  },
  {
   "cell_type": "code",
   "execution_count": null,
   "metadata": {},
   "outputs": [],
   "source": []
  }
 ],
 "metadata": {
  "kernelspec": {
   "display_name": "Python 3",
   "language": "python",
   "name": "python3"
  },
  "language_info": {
   "codemirror_mode": {
    "name": "ipython",
    "version": 3
   },
   "file_extension": ".py",
   "mimetype": "text/x-python",
   "name": "python",
   "nbconvert_exporter": "python",
   "pygments_lexer": "ipython3",
   "version": "3.6.5"
  }
 },
 "nbformat": 4,
 "nbformat_minor": 2
}
