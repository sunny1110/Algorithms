{
 "cells": [
  {
   "cell_type": "code",
   "execution_count": 8,
   "metadata": {},
   "outputs": [],
   "source": [
    "def knapsack(weights, profits, m):\n",
    "    average = [0.0]*len(weights)\n",
    "    selects = [0]*len(weights)\n",
    "    for i in range(len(weights)):\n",
    "        average[i] = profits[i]/weights[i]\n",
    "    weight = m\n",
    "    profit = 0\n",
    "    while(weight>0):\n",
    "        index = average.index(max(average))\n",
    "        if(weight>weights[index]):\n",
    "            weight-=weights[index]\n",
    "            profit+=profits[index]\n",
    "            selects[index]=1\n",
    "        else:\n",
    "            selects[index] =weight/weights[index]\n",
    "            profit+=profits[index]*selects[index]\n",
    "            weight-=weights[index]*selects[index]\n",
    "        average[index] = -1\n",
    "    print(\"Profit is \",profit)\n",
    "    return selects\n",
    "            "
   ]
  },
  {
   "cell_type": "code",
   "execution_count": 9,
   "metadata": {},
   "outputs": [],
   "source": [
    "profits = [10, 5, 15, 7, 6, 18, 3]\n",
    "weights = [2, 3, 5, 7, 1, 4, 1]"
   ]
  },
  {
   "cell_type": "code",
   "execution_count": 10,
   "metadata": {},
   "outputs": [
    {
     "name": "stdout",
     "output_type": "stream",
     "text": [
      "Profit is  55.333333333333336\n"
     ]
    },
    {
     "data": {
      "text/plain": [
       "[1, 0.6666666666666666, 1, 0, 1, 1, 1]"
      ]
     },
     "execution_count": 10,
     "metadata": {},
     "output_type": "execute_result"
    }
   ],
   "source": [
    "knapsack(weights, profits, 15)"
   ]
  },
  {
   "cell_type": "code",
   "execution_count": 11,
   "metadata": {},
   "outputs": [
    {
     "data": {
      "text/plain": [
       "52"
      ]
     },
     "execution_count": 11,
     "metadata": {},
     "output_type": "execute_result"
    }
   ],
   "source": [
    "10+15+6+18+3"
   ]
  },
  {
   "cell_type": "code",
   "execution_count": null,
   "metadata": {},
   "outputs": [],
   "source": []
  }
 ],
 "metadata": {
  "kernelspec": {
   "display_name": "Python 3",
   "language": "python",
   "name": "python3"
  },
  "language_info": {
   "codemirror_mode": {
    "name": "ipython",
    "version": 3
   },
   "file_extension": ".py",
   "mimetype": "text/x-python",
   "name": "python",
   "nbconvert_exporter": "python",
   "pygments_lexer": "ipython3",
   "version": "3.6.5"
  }
 },
 "nbformat": 4,
 "nbformat_minor": 2
}
