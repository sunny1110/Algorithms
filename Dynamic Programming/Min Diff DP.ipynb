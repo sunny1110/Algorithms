{
 "cells": [
  {
   "cell_type": "code",
   "execution_count": 54,
   "metadata": {},
   "outputs": [],
   "source": [
    "def minDiff(a):\n",
    "    n = len(a)\n",
    "    a1 = []\n",
    "    a2 = []\n",
    "    diff = minDiffUtil(a, a1, a2, n-1, {})\n",
    "    print(diff)"
   ]
  },
  {
   "cell_type": "code",
   "execution_count": 97,
   "metadata": {},
   "outputs": [],
   "source": [
    "def minDiffUtil(a, a1, a2, i, dict):\n",
    "    if i<0:\n",
    "        return abs(sum(a1)-sum(a2))\n",
    "    \n",
    "    if i in dict:\n",
    "        print(\"Looking up\")\n",
    "        return dict[(i, sum(a1))]\n",
    "    \n",
    "    else:\n",
    "        smaller = min(minDiffUtil(a, a1+[a[i]], a2, i-1, dict), minDiffUtil(a, a1, a2+[a[i]], i-1, dict))\n",
    "        dict[(i, sum(a1))] = smaller\n",
    "        return smaller"
   ]
  },
  {
   "cell_type": "code",
   "execution_count": 98,
   "metadata": {},
   "outputs": [],
   "source": [
    "a = [3, 1, 4, 2, 2, 4]"
   ]
  },
  {
   "cell_type": "code",
   "execution_count": 99,
   "metadata": {},
   "outputs": [
    {
     "name": "stdout",
     "output_type": "stream",
     "text": [
      "0\n"
     ]
    }
   ],
   "source": [
    "minDiff(a)"
   ]
  },
  {
   "cell_type": "code",
   "execution_count": null,
   "metadata": {},
   "outputs": [],
   "source": []
  }
 ],
 "metadata": {
  "kernelspec": {
   "display_name": "Python 3",
   "language": "python",
   "name": "python3"
  },
  "language_info": {
   "codemirror_mode": {
    "name": "ipython",
    "version": 3
   },
   "file_extension": ".py",
   "mimetype": "text/x-python",
   "name": "python",
   "nbconvert_exporter": "python",
   "pygments_lexer": "ipython3",
   "version": "3.6.5"
  }
 },
 "nbformat": 4,
 "nbformat_minor": 2
}
