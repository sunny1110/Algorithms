{
 "cells": [
  {
   "cell_type": "code",
   "execution_count": 2,
   "metadata": {},
   "outputs": [],
   "source": [
    "def longestIS(a):\n",
    "    \n",
    "    print(longestISUtil(a, -99999, 0, len(a), {}))"
   ]
  },
  {
   "cell_type": "code",
   "execution_count": 3,
   "metadata": {},
   "outputs": [],
   "source": [
    "def longestISUtil(a, old, i, m, dict):\n",
    "    \n",
    "#     print(dict)\n",
    "    \n",
    "    if old in dict:\n",
    "#         print(\"returning {} for {}\".format(dict[old], old))\n",
    "        return dict[old]\n",
    "    \n",
    "    if i==m:\n",
    "        return 0\n",
    "    \n",
    "    if(old<a[i]):\n",
    "        keep = longestISUtil(a, a[i], i+1, m, dict)+1 \n",
    "        skip = longestISUtil(a, old, i+1, m, dict)\n",
    "#         print(\"Keep @ {} for {} {}\".format(i, a[i], keep))\n",
    "#         print(\"Old @ {} for {} {}\".format(i, a[i], skip))\n",
    "        if(keep>skip):\n",
    "            dict[old] = keep\n",
    "            return keep\n",
    "        else:\n",
    "            dict[old] = skip\n",
    "            return skip\n",
    "    \n",
    "    else:\n",
    "        freeSkip = longestISUtil(a, old, i+1, m, dict)\n",
    "        dict[old] = freeSkip\n",
    "        return freeSkip\n"
   ]
  },
  {
   "cell_type": "code",
   "execution_count": 4,
   "metadata": {},
   "outputs": [],
   "source": [
    "a = [ 84, 5, 3, 7, 11, 8, 10, 13, 6 ] "
   ]
  },
  {
   "cell_type": "code",
   "execution_count": 7,
   "metadata": {},
   "outputs": [
    {
     "name": "stdout",
     "output_type": "stream",
     "text": [
      "5\n"
     ]
    }
   ],
   "source": [
    "longestIS(a)"
   ]
  },
  {
   "cell_type": "code",
   "execution_count": 303,
   "metadata": {},
   "outputs": [],
   "source": [
    "def longestISA(a):\n",
    "    arr = []\n",
    "    print(\"Longest is {}\".format(longestISAUtil(a, -999999, 0, len(a), arr, {})))"
   ]
  },
  {
   "cell_type": "code",
   "execution_count": 310,
   "metadata": {},
   "outputs": [],
   "source": [
    "def longestISAUtil(a, old, i, m, l, dict):\n",
    "#     print(arr)\n",
    "    if(old in dict):\n",
    "        print(\"Checking dict for: {}\".format(old))\n",
    "        return dict[old]\n",
    "\n",
    "\n",
    "    if i==m:\n",
    "        return l\n",
    "    \n",
    "    \n",
    "    print(\"ARR is {} after {} and {}\".format(l, old, i))\n",
    "    if(old<a[i]):\n",
    "        add = (longestISAUtil(a, a[i], i+1, m, l+[a[i]], dict))\n",
    "#         print(add)\n",
    "        skip =(longestISAUtil(a, old, i+1, m, l, dict))\n",
    "#         print(skip)\n",
    "        if(len(add)>len(skip)):\n",
    "#             print(\"Returning {}\".format(add))\n",
    "            dict[old] = add\n",
    "            return add\n",
    "        else:\n",
    "#             print(\"Returning {}\".format(skip))\n",
    "            dict[old] = skip\n",
    "            return skip\n",
    "    \n",
    "    else:\n",
    "        \n",
    "        fullSkip = longestISAUtil(a, old, i+1, m, l, dict)\n",
    "#         dict[old] = fullSkip\n",
    "        return fullSkip"
   ]
  },
  {
   "cell_type": "code",
   "execution_count": 311,
   "metadata": {
    "scrolled": true
   },
   "outputs": [
    {
     "name": "stdout",
     "output_type": "stream",
     "text": [
      "ARR is [] after -999999 and 0\n",
      "ARR is [84] after 84 and 1\n",
      "ARR is [84] after 84 and 2\n",
      "ARR is [84] after 84 and 3\n",
      "ARR is [84] after 84 and 4\n",
      "ARR is [84] after 84 and 5\n",
      "ARR is [84] after 84 and 6\n",
      "ARR is [84] after 84 and 7\n",
      "ARR is [84] after 84 and 8\n",
      "ARR is [] after -999999 and 1\n",
      "ARR is [5] after 5 and 2\n",
      "ARR is [5] after 5 and 3\n",
      "ARR is [5, 7] after 7 and 4\n",
      "ARR is [5, 7, 11] after 11 and 5\n",
      "ARR is [5, 7, 11] after 11 and 6\n",
      "ARR is [5, 7, 11] after 11 and 7\n",
      "ARR is [5, 7, 11, 13] after 13 and 8\n",
      "ARR is [5, 7, 11] after 11 and 8\n",
      "ARR is [5, 7] after 7 and 5\n",
      "ARR is [5, 7, 8] after 8 and 6\n",
      "ARR is [5, 7, 8, 10] after 10 and 7\n",
      "ARR is [5, 7, 8, 10, 13] after 13 and 8\n",
      "ARR is [5, 7, 8, 10] after 10 and 8\n",
      "ARR is [5, 7, 8] after 8 and 7\n",
      "ARR is [5, 7, 8, 13] after 13 and 8\n",
      "ARR is [5, 7, 8] after 8 and 8\n",
      "ARR is [5, 7] after 7 and 6\n",
      "Checking dict for: 10\n",
      "ARR is [5, 7] after 7 and 7\n",
      "ARR is [5, 7, 13] after 13 and 8\n",
      "ARR is [5, 7] after 7 and 8\n",
      "ARR is [5] after 5 and 4\n",
      "Checking dict for: 11\n",
      "ARR is [5] after 5 and 5\n",
      "Checking dict for: 8\n",
      "ARR is [5] after 5 and 6\n",
      "Checking dict for: 10\n",
      "ARR is [5] after 5 and 7\n",
      "ARR is [5, 13] after 13 and 8\n",
      "ARR is [5] after 5 and 8\n",
      "ARR is [] after -999999 and 2\n",
      "ARR is [3] after 3 and 3\n",
      "Checking dict for: 7\n",
      "ARR is [3] after 3 and 4\n",
      "Checking dict for: 11\n",
      "ARR is [3] after 3 and 5\n",
      "Checking dict for: 8\n",
      "ARR is [3] after 3 and 6\n",
      "Checking dict for: 10\n",
      "ARR is [3] after 3 and 7\n",
      "ARR is [3, 13] after 13 and 8\n",
      "ARR is [3] after 3 and 8\n",
      "ARR is [] after -999999 and 3\n",
      "Checking dict for: 7\n",
      "ARR is [] after -999999 and 4\n",
      "Checking dict for: 11\n",
      "ARR is [] after -999999 and 5\n",
      "Checking dict for: 8\n",
      "ARR is [] after -999999 and 6\n",
      "Checking dict for: 10\n",
      "ARR is [] after -999999 and 7\n",
      "ARR is [13] after 13 and 8\n",
      "ARR is [] after -999999 and 8\n",
      "Longest is [5, 7, 8, 10, 13]\n"
     ]
    }
   ],
   "source": [
    "longestISA(a)"
   ]
  },
  {
   "cell_type": "code",
   "execution_count": 293,
   "metadata": {},
   "outputs": [],
   "source": [
    "a = [1, 2, 3]"
   ]
  },
  {
   "cell_type": "code",
   "execution_count": 241,
   "metadata": {},
   "outputs": [],
   "source": [
    "a.append(5)"
   ]
  },
  {
   "cell_type": "code",
   "execution_count": 300,
   "metadata": {},
   "outputs": [
    {
     "data": {
      "text/plain": [
       "[1, 2, 3]"
      ]
     },
     "execution_count": 300,
     "metadata": {},
     "output_type": "execute_result"
    }
   ],
   "source": [
    "a"
   ]
  },
  {
   "cell_type": "code",
   "execution_count": 243,
   "metadata": {},
   "outputs": [],
   "source": [
    "q = a.append(6)"
   ]
  },
  {
   "cell_type": "code",
   "execution_count": 259,
   "metadata": {},
   "outputs": [],
   "source": [
    "q = []"
   ]
  },
  {
   "cell_type": "code",
   "execution_count": 260,
   "metadata": {},
   "outputs": [],
   "source": [
    "q.insert(0, 1)"
   ]
  },
  {
   "cell_type": "code",
   "execution_count": 261,
   "metadata": {},
   "outputs": [
    {
     "data": {
      "text/plain": [
       "[1]"
      ]
     },
     "execution_count": 261,
     "metadata": {},
     "output_type": "execute_result"
    }
   ],
   "source": [
    "q"
   ]
  },
  {
   "cell_type": "code",
   "execution_count": 262,
   "metadata": {},
   "outputs": [],
   "source": [
    "z = q.insert(len(q), 2)"
   ]
  },
  {
   "cell_type": "code",
   "execution_count": 264,
   "metadata": {},
   "outputs": [
    {
     "data": {
      "text/plain": [
       "[1, 2]"
      ]
     },
     "execution_count": 264,
     "metadata": {},
     "output_type": "execute_result"
    }
   ],
   "source": [
    "q"
   ]
  },
  {
   "cell_type": "code",
   "execution_count": 265,
   "metadata": {},
   "outputs": [
    {
     "data": {
      "text/plain": [
       "[1, 2]"
      ]
     },
     "execution_count": 265,
     "metadata": {},
     "output_type": "execute_result"
    }
   ],
   "source": [
    "q"
   ]
  },
  {
   "cell_type": "code",
   "execution_count": 266,
   "metadata": {},
   "outputs": [
    {
     "data": {
      "text/plain": [
       "[1, 2, 3]"
      ]
     },
     "execution_count": 266,
     "metadata": {},
     "output_type": "execute_result"
    }
   ],
   "source": [
    "q+[3]"
   ]
  },
  {
   "cell_type": "code",
   "execution_count": 6,
   "metadata": {},
   "outputs": [],
   "source": [
    "a = [10, 22, 9, 33, 21, 50, 41, 60] "
   ]
  },
  {
   "cell_type": "code",
   "execution_count": null,
   "metadata": {},
   "outputs": [],
   "source": []
  }
 ],
 "metadata": {
  "kernelspec": {
   "display_name": "Python 3",
   "language": "python",
   "name": "python3"
  },
  "language_info": {
   "codemirror_mode": {
    "name": "ipython",
    "version": 3
   },
   "file_extension": ".py",
   "mimetype": "text/x-python",
   "name": "python",
   "nbconvert_exporter": "python",
   "pygments_lexer": "ipython3",
   "version": "3.6.5"
  }
 },
 "nbformat": 4,
 "nbformat_minor": 2
}
