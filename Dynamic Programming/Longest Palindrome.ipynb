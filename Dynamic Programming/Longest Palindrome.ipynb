{
 "cells": [
  {
   "cell_type": "code",
   "execution_count": 59,
   "metadata": {},
   "outputs": [],
   "source": [
    "def longestPalin(s):\n",
    "    r = s[::-1]\n",
    "    l = len(s)\n",
    "    x = lcs(s, r, l, l, \"\", {})\n",
    "    print(x)"
   ]
  },
  {
   "cell_type": "code",
   "execution_count": 69,
   "metadata": {},
   "outputs": [],
   "source": [
    "def lcs(s, r, m, n, ps, dict):\n",
    "#     print(ps)\n",
    "    if m==0 or n==0:\n",
    "        return ps\n",
    "    \n",
    "    if((m, n) in dict):\n",
    "        print(\"In!\")\n",
    "        return dict[(m, n)]\n",
    "    \n",
    "    elif(s[m-1]==r[n-1]):\n",
    "        print(\"Out\")\n",
    "        ps = ps+s[m-1]\n",
    "        return lcs(s, r, m-1, n-1, ps, dict)\n",
    "    else:\n",
    "        print(\"Out\")\n",
    "        s1 = lcs(s, r, m-1, n, ps, dict)\n",
    "        s2 = lcs(s, r, m, n-1, ps, dict)\n",
    "        if(len(s1)>len(s2)):\n",
    "            dict[(m, n)] = s1\n",
    "            return s1\n",
    "        else:\n",
    "            dict[(m, n)] = s2\n",
    "            return s2"
   ]
  },
  {
   "cell_type": "code",
   "execution_count": 71,
   "metadata": {},
   "outputs": [
    {
     "name": "stdout",
     "output_type": "stream",
     "text": [
      "Out\n",
      "Out\n",
      "Out\n",
      "Out\n",
      "Out\n",
      "Out\n",
      "Out\n",
      "Out\n",
      "Out\n",
      "Out\n",
      "Out\n",
      "Out\n",
      "Out\n",
      "Out\n",
      "Out\n",
      "Out\n",
      "Out\n",
      "In!\n",
      "Out\n",
      "In!\n",
      "Out\n",
      "In!\n",
      "Out\n",
      "In!\n",
      "Out\n",
      "In!\n",
      "Out\n",
      "Out\n",
      "Out\n",
      "Out\n",
      "In!\n",
      "Out\n",
      "Out\n",
      "Out\n",
      "Out\n",
      "Out\n",
      "Out\n",
      "In!\n",
      "Out\n",
      "Out\n",
      "Out\n",
      "Out\n",
      "Out\n",
      "Out\n",
      "Out\n",
      "Out\n",
      "Out\n",
      "Out\n",
      "Out\n",
      "Out\n",
      "Out\n",
      "Out\n",
      "Out\n",
      "Out\n",
      "In!\n",
      "Out\n",
      "In!\n",
      "Out\n",
      "Out\n",
      "Out\n",
      "In!\n",
      "geekskeeg\n"
     ]
    }
   ],
   "source": [
    "longestPalin(\"geekgsskeeg\")"
   ]
  },
  {
   "cell_type": "code",
   "execution_count": null,
   "metadata": {},
   "outputs": [],
   "source": []
  },
  {
   "cell_type": "code",
   "execution_count": null,
   "metadata": {},
   "outputs": [],
   "source": []
  }
 ],
 "metadata": {
  "kernelspec": {
   "display_name": "Python 3",
   "language": "python",
   "name": "python3"
  },
  "language_info": {
   "codemirror_mode": {
    "name": "ipython",
    "version": 3
   },
   "file_extension": ".py",
   "mimetype": "text/x-python",
   "name": "python",
   "nbconvert_exporter": "python",
   "pygments_lexer": "ipython3",
   "version": "3.6.5"
  }
 },
 "nbformat": 4,
 "nbformat_minor": 2
}
