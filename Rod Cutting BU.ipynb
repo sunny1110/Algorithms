{
 "cells": [
  {
   "cell_type": "code",
   "execution_count": 43,
   "metadata": {},
   "outputs": [],
   "source": [
    "def rodCutting(p):\n",
    "    n = len(p)\n",
    "    DP = [[0 for x in range(n+1)] for x in range(n+1)]\n",
    "    \n",
    "    for i in range(n+1):\n",
    "        for j in range(n+1):\n",
    "            if i==0 or j==0:\n",
    "                DP[i][j]=0\n",
    "            \n",
    "            elif(i<=j):\n",
    "                DP[i][j] = max(DP[i-1][j-i]+p[i-1], DP[i-1][j-i]+DP[i-1][j-i-1], DP[i-1][j])\n",
    "                \n",
    "            else:\n",
    "                DP[i][j] = DP[i-1][j]\n",
    "    print(DP)\n",
    "    return DP[n][n]"
   ]
  },
  {
   "cell_type": "code",
   "execution_count": 44,
   "metadata": {},
   "outputs": [],
   "source": [
    "p = [3, 5, 8, 9, 10, 17, 17, 20]"
   ]
  },
  {
   "cell_type": "code",
   "execution_count": 45,
   "metadata": {},
   "outputs": [
    {
     "name": "stdout",
     "output_type": "stream",
     "text": [
      "[[0, 0, 0, 0, 0, 0, 0, 0, 0], [0, 3, 3, 3, 3, 3, 3, 3, 3], [0, 3, 5, 8, 8, 8, 8, 8, 8], [0, 3, 5, 8, 11, 13, 16, 16, 16], [0, 3, 5, 8, 16, 13, 16, 17, 20], [0, 3, 5, 8, 16, 20, 16, 17, 20], [0, 3, 5, 8, 16, 20, 20, 20, 22], [0, 3, 5, 8, 16, 20, 20, 22, 22], [0, 3, 5, 8, 16, 20, 20, 22, 22]]\n"
     ]
    },
    {
     "data": {
      "text/plain": [
       "22"
      ]
     },
     "execution_count": 45,
     "metadata": {},
     "output_type": "execute_result"
    }
   ],
   "source": [
    "rodCutting(p)"
   ]
  },
  {
   "cell_type": "code",
   "execution_count": null,
   "metadata": {},
   "outputs": [],
   "source": []
  }
 ],
 "metadata": {
  "kernelspec": {
   "display_name": "Python 3",
   "language": "python",
   "name": "python3"
  },
  "language_info": {
   "codemirror_mode": {
    "name": "ipython",
    "version": 3
   },
   "file_extension": ".py",
   "mimetype": "text/x-python",
   "name": "python",
   "nbconvert_exporter": "python",
   "pygments_lexer": "ipython3",
   "version": "3.6.5"
  }
 },
 "nbformat": 4,
 "nbformat_minor": 2
}
