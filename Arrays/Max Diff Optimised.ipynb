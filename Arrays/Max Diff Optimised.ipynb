{
 "cells": [
  {
   "cell_type": "code",
   "execution_count": 1,
   "metadata": {},
   "outputs": [],
   "source": [
    "def max(a, b):\n",
    "    if(a>b):\n",
    "        return a\n",
    "    return b"
   ]
  },
  {
   "cell_type": "code",
   "execution_count": 2,
   "metadata": {},
   "outputs": [],
   "source": [
    "def min(a, b):\n",
    "    if(a<b):\n",
    "        return a\n",
    "    return b"
   ]
  },
  {
   "cell_type": "code",
   "execution_count": 36,
   "metadata": {},
   "outputs": [],
   "source": [
    "def maxDiff(arr):\n",
    "    lMin = [0]*len(arr)\n",
    "    rMax = [0]*len(arr)\n",
    "    lMin[0] = arr[0]\n",
    "    for i in range(len(arr)-1):\n",
    "        lMin[i+1] = min(arr[i+1], lMin[i])\n",
    "    rMax[len(arr)-1] = arr[len(arr)-1]\n",
    "    for i in range(len(arr)-1, 0, -1):\n",
    "        rMax[i-1] = max(rMax[i], arr[i-1])\n",
    "#     return rMax\n",
    "    i, j = 0, 0\n",
    "    maxDiff = -1\n",
    "    n = len(arr)\n",
    "    while (j < n and i < n): \n",
    "        print(\"i \",i)\n",
    "        print(\"j \", j)\n",
    "        if (lMin[i] < rMax[j]): \n",
    "            maxDiff = max(maxDiff, j - i) \n",
    "            j = j + 1\n",
    "        else: \n",
    "            i = i+1\n",
    "  \n",
    "    return maxDiff "
   ]
  },
  {
   "cell_type": "code",
   "execution_count": 37,
   "metadata": {},
   "outputs": [],
   "source": [
    "b = [34, 8, 10, 3, 2, 80, 30, 33, 1]"
   ]
  },
  {
   "cell_type": "code",
   "execution_count": 38,
   "metadata": {},
   "outputs": [
    {
     "name": "stdout",
     "output_type": "stream",
     "text": [
      "i  0\n",
      "j  0\n",
      "i  0\n",
      "j  1\n",
      "i  0\n",
      "j  2\n",
      "i  0\n",
      "j  3\n",
      "i  0\n",
      "j  4\n",
      "i  0\n",
      "j  5\n",
      "i  0\n",
      "j  6\n",
      "i  1\n",
      "j  6\n",
      "i  1\n",
      "j  7\n",
      "i  1\n",
      "j  8\n",
      "i  2\n",
      "j  8\n",
      "i  3\n",
      "j  8\n",
      "i  4\n",
      "j  8\n",
      "i  5\n",
      "j  8\n",
      "i  6\n",
      "j  8\n",
      "i  7\n",
      "j  8\n",
      "i  8\n",
      "j  8\n"
     ]
    },
    {
     "data": {
      "text/plain": [
       "6"
      ]
     },
     "execution_count": 38,
     "metadata": {},
     "output_type": "execute_result"
    }
   ],
   "source": [
    "maxDiff(b)"
   ]
  },
  {
   "cell_type": "code",
   "execution_count": 39,
   "metadata": {},
   "outputs": [],
   "source": [
    "c = [8, 4, 6, 2, 5]"
   ]
  },
  {
   "cell_type": "code",
   "execution_count": 40,
   "metadata": {},
   "outputs": [
    {
     "name": "stdout",
     "output_type": "stream",
     "text": [
      "i  0\n",
      "j  0\n",
      "i  1\n",
      "j  0\n",
      "i  1\n",
      "j  1\n",
      "i  1\n",
      "j  2\n",
      "i  1\n",
      "j  3\n",
      "i  1\n",
      "j  4\n"
     ]
    },
    {
     "data": {
      "text/plain": [
       "3"
      ]
     },
     "execution_count": 40,
     "metadata": {},
     "output_type": "execute_result"
    }
   ],
   "source": [
    "maxDiff(c)"
   ]
  },
  {
   "cell_type": "code",
   "execution_count": null,
   "metadata": {},
   "outputs": [],
   "source": []
  }
 ],
 "metadata": {
  "kernelspec": {
   "display_name": "Python 3",
   "language": "python",
   "name": "python3"
  },
  "language_info": {
   "codemirror_mode": {
    "name": "ipython",
    "version": 3
   },
   "file_extension": ".py",
   "mimetype": "text/x-python",
   "name": "python",
   "nbconvert_exporter": "python",
   "pygments_lexer": "ipython3",
   "version": "3.6.5"
  }
 },
 "nbformat": 4,
 "nbformat_minor": 2
}
