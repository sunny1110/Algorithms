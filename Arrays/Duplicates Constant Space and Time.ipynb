{
 "cells": [
  {
   "cell_type": "code",
   "execution_count": 44,
   "metadata": {},
   "outputs": [],
   "source": [
    "def printDups(a):\n",
    "    zeroes = 0\n",
    "    for i in range(len(a)):\n",
    "#         print(a[abs(a[i])])\n",
    "        \n",
    "        if(a[i]==0):\n",
    "            zeroes+=1\n",
    "            if(zeroes>1):\n",
    "                print(a[i], end= \" \")\n",
    "\n",
    "        elif(a[abs(a[i])]>0):\n",
    "            a[abs(a[i])] = -a[abs(a[i])]\n",
    "        else:\n",
    "            print(abs(a[i]), end= \" \")"
   ]
  },
  {
   "cell_type": "code",
   "execution_count": 45,
   "metadata": {},
   "outputs": [],
   "source": [
    "a = [1, 2, 3, 1, 3, 6, 6, 0, 0, 2]"
   ]
  },
  {
   "cell_type": "code",
   "execution_count": 46,
   "metadata": {},
   "outputs": [
    {
     "name": "stdout",
     "output_type": "stream",
     "text": [
      "1 3 6 0 2 "
     ]
    }
   ],
   "source": [
    "printDups(a)"
   ]
  },
  {
   "cell_type": "code",
   "execution_count": null,
   "metadata": {},
   "outputs": [],
   "source": []
  }
 ],
 "metadata": {
  "kernelspec": {
   "display_name": "Python 3",
   "language": "python",
   "name": "python3"
  },
  "language_info": {
   "codemirror_mode": {
    "name": "ipython",
    "version": 3
   },
   "file_extension": ".py",
   "mimetype": "text/x-python",
   "name": "python",
   "nbconvert_exporter": "python",
   "pygments_lexer": "ipython3",
   "version": "3.6.5"
  }
 },
 "nbformat": 4,
 "nbformat_minor": 2
}
