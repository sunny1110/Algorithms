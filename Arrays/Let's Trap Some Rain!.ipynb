{
 "cells": [
  {
   "cell_type": "code",
   "execution_count": 147,
   "metadata": {},
   "outputs": [],
   "source": [
    "def trapRain(a):\n",
    "    total = 0\n",
    "    lMax = [0]*(len(a))\n",
    "    rMax = [0]*(len(a))\n",
    "    trap = [0]*(len(a))\n",
    "    maxVal = -999999\n",
    "    for i in range(1, len(a)):\n",
    "        maxVal = max(maxVal, a[i-1])\n",
    "        lMax[i-1] = maxVal\n",
    "#     return lMax\n",
    "\n",
    "    maxVal = -999999\n",
    "    for i in range(len(a)-2, -1, -1):\n",
    "        maxVal = max(maxVal, a[i+1])\n",
    "        rMax[i+1] = maxVal\n",
    "#     return rMax\n",
    "            \n",
    "    for i in range(1, len(a)-1):\n",
    "        trap[i] = min(lMax[i], rMax[i])-a[i]\n",
    "        total = total+trap[i]\n",
    "        \n",
    "    print(lMax)\n",
    "    print(rMax)\n",
    "    print(a)\n",
    "    print(trap)\n",
    "    return total\n"
   ]
  },
  {
   "cell_type": "code",
   "execution_count": 164,
   "metadata": {},
   "outputs": [],
   "source": [
    "a =[2, 3, 4, 7, 2, 5, 6]\n"
   ]
  },
  {
   "cell_type": "code",
   "execution_count": 165,
   "metadata": {},
   "outputs": [
    {
     "name": "stdout",
     "output_type": "stream",
     "text": [
      "[2, 3, 4, 7, 7, 7, 0]\n",
      "[0, 7, 7, 7, 6, 6, 6]\n",
      "[2, 3, 4, 7, 2, 5, 6]\n",
      "[0, 0, 0, 0, 4, 1, 0]\n"
     ]
    },
    {
     "data": {
      "text/plain": [
       "5"
      ]
     },
     "execution_count": 165,
     "metadata": {},
     "output_type": "execute_result"
    }
   ],
   "source": [
    "trapRain(a)"
   ]
  },
  {
   "cell_type": "code",
   "execution_count": 158,
   "metadata": {},
   "outputs": [
    {
     "name": "stdout",
     "output_type": "stream",
     "text": [
      "[3, 3, 4, 7, 7, 7, 7, 7, 7, 7, 7]\n"
     ]
    }
   ],
   "source": [
    "MAX = -999999\n",
    "mA = [0]*len(a)\n",
    "for i in range(len(a)):\n",
    "    MAX = max(MAX, a[i])\n",
    "    mA[i] = MAX\n",
    "print(mA)"
   ]
  },
  {
   "cell_type": "code",
   "execution_count": 159,
   "metadata": {},
   "outputs": [
    {
     "name": "stdout",
     "output_type": "stream",
     "text": [
      "[7, 7, 7, 7, 6, 6, 6, 6, 5, 5, 5]\n"
     ]
    }
   ],
   "source": [
    "MAX = -999999\n",
    "rMA = [0]*len(a)\n",
    "for i in range(len(a)-1, -1, -1):\n",
    "    MAX = max(a[i], MAX)\n",
    "    rMA[i] = MAX\n",
    "print(rMA)"
   ]
  },
  {
   "cell_type": "code",
   "execution_count": null,
   "metadata": {},
   "outputs": [],
   "source": []
  },
  {
   "cell_type": "code",
   "execution_count": null,
   "metadata": {},
   "outputs": [],
   "source": []
  }
 ],
 "metadata": {
  "kernelspec": {
   "display_name": "Python 3",
   "language": "python",
   "name": "python3"
  },
  "language_info": {
   "codemirror_mode": {
    "name": "ipython",
    "version": 3
   },
   "file_extension": ".py",
   "mimetype": "text/x-python",
   "name": "python",
   "nbconvert_exporter": "python",
   "pygments_lexer": "ipython3",
   "version": "3.6.5"
  }
 },
 "nbformat": 4,
 "nbformat_minor": 2
}
