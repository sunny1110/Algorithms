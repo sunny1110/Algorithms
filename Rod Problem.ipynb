{
 "cells": [
  {
   "cell_type": "code",
   "execution_count": 4,
   "metadata": {},
   "outputs": [],
   "source": [
    "def rodCutting(p):\n",
    "    c = len(p)\n",
    "    l = [i for i in range(1, c+1)]\n",
    "    profit = rodCuttingUtil(l, c, p, 0, {})\n",
    "    print(profit)"
   ]
  },
  {
   "cell_type": "code",
   "execution_count": 1,
   "metadata": {},
   "outputs": [],
   "source": [
    "def rodCuttingUtil(l, c, p, i, dict):\n",
    "    \n",
    "    if c in dict:\n",
    "        print(\"Looking up!\")\n",
    "        return dict[c]\n",
    "    \n",
    "    if i==len(p) or c<=0:\n",
    "        return 0\n",
    "    \n",
    "    elif c>=l[i]:\n",
    "        best = max(rodCuttingUtil(l, c-l[i], p, i, dict)+p[i], rodCuttingUtil(l, c-l[i], p, i+1, dict)+p[i], rodCuttingUtil(l, c, p, i+1, dict))\n",
    "        dict[c] = best\n",
    "        return best\n",
    "    else:\n",
    "        return rodCuttingUtil(l, c, p, i+1, dict)"
   ]
  },
  {
   "cell_type": "code",
   "execution_count": 6,
   "metadata": {},
   "outputs": [],
   "source": [
    "p = [3, 5, 8]"
   ]
  },
  {
   "cell_type": "code",
   "execution_count": 7,
   "metadata": {},
   "outputs": [
    {
     "name": "stdout",
     "output_type": "stream",
     "text": [
      "Looking up!\n",
      "Looking up!\n",
      "Looking up!\n",
      "Looking up!\n",
      "9\n"
     ]
    }
   ],
   "source": [
    "rodCutting(p)"
   ]
  },
  {
   "cell_type": "code",
   "execution_count": null,
   "metadata": {},
   "outputs": [],
   "source": []
  }
 ],
 "metadata": {
  "kernelspec": {
   "display_name": "Python 3",
   "language": "python",
   "name": "python3"
  },
  "language_info": {
   "codemirror_mode": {
    "name": "ipython",
    "version": 3
   },
   "file_extension": ".py",
   "mimetype": "text/x-python",
   "name": "python",
   "nbconvert_exporter": "python",
   "pygments_lexer": "ipython3",
   "version": "3.6.5"
  }
 },
 "nbformat": 4,
 "nbformat_minor": 2
}
