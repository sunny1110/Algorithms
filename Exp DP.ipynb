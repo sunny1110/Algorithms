{
 "cells": [
  {
   "cell_type": "code",
   "execution_count": 7,
   "metadata": {},
   "outputs": [],
   "source": [
    "def exp(n, e, map):\n",
    "#     print(\"\".format(map))\n",
    "    if e in map:\n",
    "#         print(\"I'm in it for {}!!\".format(e))\n",
    "        return map[e]\n",
    "    \n",
    "    if(e==0):\n",
    "        return 1\n",
    "    if(e==1):\n",
    "        return n\n",
    "    \n",
    "    if(e%2==0):\n",
    "        result = exp(n, int(e/2), map) * exp(n, int(e/2), map)\n",
    "        map[e] = result\n",
    "        return result\n",
    "    else:\n",
    "        result = exp(n, int(e/2), map) * exp(n, int(e/2), map)*n\n",
    "        map[e] = result\n",
    "        return result"
   ]
  },
  {
   "cell_type": "code",
   "execution_count": 8,
   "metadata": {},
   "outputs": [
    {
     "data": {
      "text/plain": [
       "1024"
      ]
     },
     "execution_count": 8,
     "metadata": {},
     "output_type": "execute_result"
    }
   ],
   "source": [
    "exp(2, 10, {})"
   ]
  },
  {
   "cell_type": "code",
   "execution_count": null,
   "metadata": {},
   "outputs": [],
   "source": []
  }
 ],
 "metadata": {
  "kernelspec": {
   "display_name": "Python 3",
   "language": "python",
   "name": "python3"
  },
  "language_info": {
   "codemirror_mode": {
    "name": "ipython",
    "version": 3
   },
   "file_extension": ".py",
   "mimetype": "text/x-python",
   "name": "python",
   "nbconvert_exporter": "python",
   "pygments_lexer": "ipython3",
   "version": "3.6.5"
  }
 },
 "nbformat": 4,
 "nbformat_minor": 2
}
